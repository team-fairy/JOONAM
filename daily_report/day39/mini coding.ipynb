{
 "cells": [
  {
   "cell_type": "markdown",
   "id": "advised-space",
   "metadata": {},
   "source": [
    "## Qunatization\n",
    "\n",
    "- mini code"
   ]
  },
  {
   "cell_type": "code",
   "execution_count": 2,
   "id": "laughing-airport",
   "metadata": {},
   "outputs": [
    {
     "name": "stdout",
     "output_type": "stream",
     "text": [
      "0.30000000000000004 False\n",
      "<class 'int'>\n",
      "0.9999999999999998 False\n",
      "<class 'float'>\n"
     ]
    }
   ],
   "source": [
    "print(0.1 + 0.2, 0.1+0.2 == 0.3)\n",
    "\n",
    "sum = 0\n",
    "print(type(sum))\n",
    "for i in range(7):\n",
    "    sum += 1.0/7.0\n",
    "print(sum, sum == 1)\n",
    "print(type(sum))"
   ]
  },
  {
   "cell_type": "markdown",
   "id": "loving-isaac",
   "metadata": {},
   "source": [
    "## knowledge Distillation\n",
    "\n",
    "\n",
    "- mini code"
   ]
  },
  {
   "cell_type": "code",
   "execution_count": 1,
   "id": "cloudy-stick",
   "metadata": {},
   "outputs": [
    {
     "name": "stdout",
     "output_type": "stream",
     "text": [
      "max: 3 VS argmax: 1\n"
     ]
    }
   ],
   "source": [
    "import numpy as np\n",
    "data = [1, 3, 2]\n",
    "\n",
    "ans = np.max(data)\n",
    "arg_ans = np.argmax(data)\n",
    "print(\"max: {} VS argmax: {}\".format(ans, arg_ans))"
   ]
  },
  {
   "cell_type": "code",
   "execution_count": 6,
   "id": "intensive-password",
   "metadata": {},
   "outputs": [
    {
     "name": "stdout",
     "output_type": "stream",
     "text": [
      "softmax 전체 합 : 1.0\n",
      "개별 원소의 softmax 값 : 0.0900 0.6652 0.2447\n"
     ]
    }
   ],
   "source": [
    "p1 = np.exp(1) / (np.exp(1)+np.exp(2)+np.exp(3))\n",
    "p2 = np.exp(3) / (np.exp(1)+np.exp(2)+np.exp(3))\n",
    "p3 = np.exp(2) / (np.exp(1)+np.exp(2)+np.exp(3))\n",
    "print(\"softmax 전체 합 : {}\".format(p1+p2+p3))\n",
    "print(\"개별 원소의 softmax 값 : {:.4f} {:.4f} {:.4f}\".format(p1,p2,p3))"
   ]
  }
 ],
 "metadata": {
  "kernelspec": {
   "display_name": "Python [conda env:python_3.7] *",
   "language": "python",
   "name": "conda-env-python_3.7-py"
  },
  "language_info": {
   "codemirror_mode": {
    "name": "ipython",
    "version": 3
   },
   "file_extension": ".py",
   "mimetype": "text/x-python",
   "name": "python",
   "nbconvert_exporter": "python",
   "pygments_lexer": "ipython3",
   "version": "3.7.9"
  }
 },
 "nbformat": 4,
 "nbformat_minor": 5
}
