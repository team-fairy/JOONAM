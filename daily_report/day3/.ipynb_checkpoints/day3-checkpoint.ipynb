{
 "cells": [
  {
   "cell_type": "markdown",
   "metadata": {},
   "source": [
    "__deque 사용__"
   ]
  },
  {
   "cell_type": "code",
   "execution_count": 3,
   "metadata": {},
   "outputs": [
    {
     "name": "stdout",
     "output_type": "stream",
     "text": [
      "deque([1, 3, 5, 6])\n",
      "deque([3, 5, 6, 12])\n",
      "deque([10, 1, 3, 5, 6, 12])\n"
     ]
    }
   ],
   "source": [
    "from collections import deque\n",
    "a = [ 1,3,5,6 ]\n",
    "\n",
    "## collections 라이브러리 활용 구현 stack!\n",
    "deque_list = deque( a )\n",
    "deque_list.append(12)\n",
    "deque_list.pop() # 12\n",
    "print(deque_list) # [ 1,3,5,6 ]\n",
    "\n",
    "## collections 라이브러리 활용 구현 queue! \n",
    "deque_list = deque( a )\n",
    "deque_list.append(12)\n",
    "deque_list.popleft() # 1\n",
    "print(deque_list) # [ 3,5,6,12 ]\n",
    "\n",
    "## 또한 앞 뒤로도 데이터 입력이 가능하다\n",
    "a = [ 1,3,5,6 ]\n",
    "deque_list = deque( a )\n",
    "deque_list.append(12) # 오른쪽 12입력\n",
    "deque_list.appendleft(10) # 왼쪽으로 12 입력\n",
    "print(deque_list) # deque([10, 1, 2, 3, 6, 12])"
   ]
  },
  {
   "cell_type": "markdown",
   "metadata": {},
   "source": [
    "- linked_list 의 형식이다"
   ]
  },
  {
   "cell_type": "code",
   "execution_count": 68,
   "metadata": {},
   "outputs": [
    {
     "name": "stdout",
     "output_type": "stream",
     "text": [
      "deque([2, 1, 7, 6, 5, 4, 3])\n"
     ]
    }
   ],
   "source": [
    "a = deque([1,2,3,4,5,6,7])\n",
    "print(a.rotate(5)) # 모든 값들을 5만큼 회전시키며 이동가능하다\n",
    "\n",
    "a = deque([1,2,3,4,5,6,7])\n",
    "print(deque(reversed(a))을 # 인덱스의 위치를 역순으로 바꾸는것도 가능하다"
   ]
  },
  {
   "cell_type": "markdown",
   "metadata": {},
   "source": [
    "<br></br><br></br>\n",
    "__deque와 list의 연산차이_1 : 데이터 삽입__\n",
    "- 가운데 인덱스에 삽입"
   ]
  },
  {
   "cell_type": "code",
   "execution_count": 29,
   "metadata": {},
   "outputs": [
    {
     "name": "stdout",
     "output_type": "stream",
     "text": [
      "<class 'collections.deque'> : insert_time 8.6 seconds\n",
      "<class 'list'> : insert_time 5.6 seconds\n",
      "200010\n",
      "200010\n"
     ]
    }
   ],
   "source": [
    "import time\n",
    "\n",
    "def check_time( data ):\n",
    "    start = time.time()\n",
    "    for i in range(200000):\n",
    "        data.insert(int(len(data)/2),i)\n",
    "    print(f\"{type(data)} : insert_time {time.time() - start :.2} seconds\")\n",
    "\n",
    "a = [0]*10\n",
    "deque_list = deque( a )\n",
    "lst = a\n",
    "\n",
    "check_time(deque_list)\n",
    "check_time(lst)\n",
    "print(len(deque_list))\n",
    "print(len(lst))"
   ]
  },
  {
   "cell_type": "markdown",
   "metadata": {},
   "source": [
    "<br></br><br></br>\n",
    "\n",
    "__deque와 list의 연산차이_2 : 데이터 삽입__\n",
    "- stack형식의 데이터 적제"
   ]
  },
  {
   "cell_type": "code",
   "execution_count": 49,
   "metadata": {
    "scrolled": true
   },
   "outputs": [
    {
     "name": "stdout",
     "output_type": "stream",
     "text": [
      "<class 'collections.deque'> : check_time 0.017 seconds\n",
      "<class 'list'> : check_time 0.02 seconds\n",
      "200010\n",
      "200010\n"
     ]
    }
   ],
   "source": [
    "import time\n",
    "\n",
    "def check_time( data ):\n",
    "    start = time.time()\n",
    "    for i in range(200000):\n",
    "        data.append(i)\n",
    "    print(f\"{type(data)} : check_time {time.time() - start :.2} seconds\")\n",
    "\n",
    "a = [0]*10\n",
    "deque_list = deque( a )\n",
    "lst = a\n",
    "\n",
    "check_time(deque_list)\n",
    "check_time(lst)\n",
    "print(len(deque_list))\n",
    "print(len(lst))"
   ]
  },
  {
   "cell_type": "markdown",
   "metadata": {},
   "source": [
    "<br></br><br></br>\n",
    "__deque와 list의 연산차이_3 : queue__\n",
    "- queue 형식 데이터 삽입"
   ]
  },
  {
   "cell_type": "code",
   "execution_count": 50,
   "metadata": {
    "scrolled": true
   },
   "outputs": [
    {
     "name": "stdout",
     "output_type": "stream",
     "text": [
      "<class 'collections.deque'> : pop_time 0.014 seconds\n",
      "<class 'list'> : pop_time 4.2 seconds\n",
      "10\n",
      "10\n"
     ]
    }
   ],
   "source": [
    "def check_time_deque( data ):\n",
    "    start = time.time()\n",
    "    for i in range(200000):\n",
    "        data.popleft()\n",
    "    print(f\"{type(data)} : pop_time {time.time() - start :.2} seconds\")\n",
    "check_time_deque(deque_list)\n",
    "\n",
    "def check_time_list( data ):\n",
    "    start = time.time()\n",
    "    for i in range(200000):\n",
    "        data.pop(0)\n",
    "    print(f\"{type(data)} : pop_time {time.time() - start :.2} seconds\")\n",
    "check_time_list(lst)\n",
    "\n",
    "print(len(deque_list))\n",
    "print(len(lst))"
   ]
  },
  {
   "cell_type": "markdown",
   "metadata": {},
   "source": [
    "<br></br><br></br>\n",
    "__defaultdict__"
   ]
  },
  {
   "cell_type": "code",
   "execution_count": 69,
   "metadata": {},
   "outputs": [
    {
     "name": "stdout",
     "output_type": "stream",
     "text": [
      "0\n"
     ]
    },
    {
     "ename": "KeyError",
     "evalue": "'asd'",
     "output_type": "error",
     "traceback": [
      "\u001b[0;31m---------------------------------------------------------------------------\u001b[0m",
      "\u001b[0;31mKeyError\u001b[0m                                  Traceback (most recent call last)",
      "\u001b[0;32m<ipython-input-69-9400513903e2>\u001b[0m in \u001b[0;36m<module>\u001b[0;34m\u001b[0m\n\u001b[1;32m      5\u001b[0m \u001b[0;34m\u001b[0m\u001b[0m\n\u001b[1;32m      6\u001b[0m \u001b[0md\u001b[0m \u001b[0;34m=\u001b[0m \u001b[0;34m{\u001b[0m\u001b[0;34m}\u001b[0m\u001b[0;34m\u001b[0m\u001b[0;34m\u001b[0m\u001b[0m\n\u001b[0;32m----> 7\u001b[0;31m \u001b[0mprint\u001b[0m\u001b[0;34m(\u001b[0m\u001b[0md\u001b[0m\u001b[0;34m[\u001b[0m\u001b[0;34m\"asd\"\u001b[0m\u001b[0;34m]\u001b[0m\u001b[0;34m)\u001b[0m\u001b[0;34m\u001b[0m\u001b[0;34m\u001b[0m\u001b[0m\n\u001b[0m",
      "\u001b[0;31mKeyError\u001b[0m: 'asd'"
     ]
    }
   ],
   "source": [
    "from collections import defaultdict\n",
    "d_dict = defaultdict()\n",
    "d = defaultdict(lambda : 0)\n",
    "print(d[\"asd\"])\n",
    "\n",
    "d = {}\n",
    "print(d[\"asd\"])"
   ]
  },
  {
   "cell_type": "markdown",
   "metadata": {},
   "source": [
    "__counter__"
   ]
  },
  {
   "cell_type": "code",
   "execution_count": 53,
   "metadata": {},
   "outputs": [
    {
     "data": {
      "text/plain": [
       "Counter({1: 2, 2: 1, 3: 3, 5: 2, 10: 1})"
      ]
     },
     "execution_count": 53,
     "metadata": {},
     "output_type": "execute_result"
    }
   ],
   "source": [
    "from collections import Counter\n",
    "a = [ 1,1,2,3,3,3,5,5,10 ]\n",
    "print(Counter(a))\n",
    "print(sorted(a , key = ))"
   ]
  },
  {
   "cell_type": "markdown",
   "metadata": {},
   "source": [
    "__join__"
   ]
  },
  {
   "cell_type": "code",
   "execution_count": 78,
   "metadata": {},
   "outputs": [
    {
     "name": "stdout",
     "output_type": "stream",
     "text": [
      "리스트또는 집합에  문자열들만  있어야  합칠수  있네요\n",
      "있어야  리스트또는 집합에  문자열들만  있네요  합칠수\n"
     ]
    }
   ],
   "source": [
    "a = [\"리스트또는 집합에\", \"문자열들만\",\"있어야\", \"합칠수\", \"있네요\"]\n",
    "print(\"  \".join(a))\n",
    "a = set(a)\n",
    "print(\"  \".join(a))"
   ]
  },
  {
   "cell_type": "markdown",
   "metadata": {},
   "source": [
    "<br></br><br></br>\n",
    "__list comprehension__"
   ]
  },
  {
   "cell_type": "code",
   "execution_count": 84,
   "metadata": {},
   "outputs": [
    {
     "name": "stdout",
     "output_type": "stream",
     "text": [
      "[0, '홀수', 2, '홀수', 4, '홀수', 6, '홀수', 8, '홀수', 10, '홀수', 12, '홀수', 14, '홀수', 16, '홀수', 18, '홀수']\n"
     ]
    }
   ],
   "source": [
    "lst_com = [ \"홀수\" if i%2 == 1 else i for i in range(20) ]\n",
    "print(lst_com)"
   ]
  },
  {
   "cell_type": "code",
   "execution_count": 9,
   "metadata": {},
   "outputs": [
    {
     "ename": "TypeError",
     "evalue": "unpacking_list() takes 2 positional arguments but 6 were given",
     "output_type": "error",
     "traceback": [
      "\u001b[0;31m---------------------------------------------------------------------------\u001b[0m",
      "\u001b[0;31mTypeError\u001b[0m                                 Traceback (most recent call last)",
      "\u001b[0;32m<ipython-input-9-520a3c1a2486>\u001b[0m in \u001b[0;36m<module>\u001b[0;34m\u001b[0m\n\u001b[1;32m      9\u001b[0m     \u001b[0;32mreturn\u001b[0m \u001b[0mres\u001b[0m\u001b[0;34m\u001b[0m\u001b[0;34m\u001b[0m\u001b[0m\n\u001b[1;32m     10\u001b[0m \u001b[0;34m\u001b[0m\u001b[0m\n\u001b[0;32m---> 11\u001b[0;31m \u001b[0mprint\u001b[0m\u001b[0;34m(\u001b[0m\u001b[0munpacking_list\u001b[0m\u001b[0;34m(\u001b[0m \u001b[0;36m3\u001b[0m\u001b[0;34m,\u001b[0m \u001b[0;34m*\u001b[0m\u001b[0;34m[\u001b[0m\u001b[0;36m1\u001b[0m\u001b[0;34m,\u001b[0m\u001b[0;36m5\u001b[0m\u001b[0;34m,\u001b[0m\u001b[0;36m11\u001b[0m\u001b[0;34m,\u001b[0m\u001b[0;36m29\u001b[0m\u001b[0;34m,\u001b[0m\u001b[0;36m81\u001b[0m\u001b[0;34m]\u001b[0m \u001b[0;34m)\u001b[0m\u001b[0;34m)\u001b[0m \u001b[0;31m# list가 분리되어 전달 된다.\u001b[0m\u001b[0;34m\u001b[0m\u001b[0;34m\u001b[0m\u001b[0m\n\u001b[0m\u001b[1;32m     12\u001b[0m \u001b[0mprint\u001b[0m\u001b[0;34m(\u001b[0m\u001b[0munpacking_list\u001b[0m\u001b[0;34m(\u001b[0m \u001b[0;36m3\u001b[0m\u001b[0;34m,\u001b[0m \u001b[0;36m1\u001b[0m\u001b[0;34m,\u001b[0m \u001b[0;36m5\u001b[0m\u001b[0;34m,\u001b[0m \u001b[0;36m11\u001b[0m\u001b[0;34m,\u001b[0m \u001b[0;36m29\u001b[0m\u001b[0;34m,\u001b[0m \u001b[0;36m81\u001b[0m \u001b[0;34m)\u001b[0m\u001b[0;34m)\u001b[0m \u001b[0;31m# 이 역시 동일 출력된다.\u001b[0m\u001b[0;34m\u001b[0m\u001b[0;34m\u001b[0m\u001b[0m\n",
      "\u001b[0;31mTypeError\u001b[0m: unpacking_list() takes 2 positional arguments but 6 were given"
     ]
    }
   ],
   "source": [
    "\n",
    "def unpacking_list( v, *a ): \n",
    "    \"\"\"\n",
    "    2번째 부터 받는 변수는 즉 키워드 값이 v 가 아닌 변수는 하나의 변수에 담기게 된다.\n",
    "    \"\"\"\n",
    "    res = []\n",
    "    for i in a:\n",
    "        res.append(v+i)\n",
    "    return res\n",
    "\n",
    "print(unpacking_list( 3, *[1,5,11,29,81] )) # list가 분리되어 전달 된다.\n",
    "print(unpacking_list( 3, 1, 5, 11, 29, 81 )) # 이 역시 동일 출력된다.\n"
   ]
  },
  {
   "cell_type": "code",
   "execution_count": 11,
   "metadata": {},
   "outputs": [
    {
     "name": "stdout",
     "output_type": "stream",
     "text": [
      "joon의 전공은 경제\n",
      "joon의 취미는 요리\n",
      "joon의 나이는 몰라요\n",
      "joon의 전공은 경제\n",
      "joon의 취미는 요리\n",
      "joon의 나이는 몰라요\n"
     ]
    }
   ],
   "source": [
    "def unpacking_dict( name ,**a): # 받은 값들을 name을 제외한 변수들은 모두 dict화 시킨다!\n",
    "    print(f\"{name}의 전공은 {a['major']}\")\n",
    "    print(f\"{name}의 취미는 {a['hobby']}\")\n",
    "    print(f\"{name}의 나이는 {a.get('age', '몰라요')}\") \n",
    "    # 이렇게 키워드를 입력하지 않았을 경우를 대비하여 default값을 설정하는것이 좋다\n",
    "    \n",
    "info = {\n",
    "    \"name\" : 'joon',\n",
    "    \"hobby\" : '요리',\n",
    "    \"major\" : '경제'\n",
    "}\n",
    "unpacking_dict(**info) # **시 unpacking하여 키워드 형식으로 전달 된다.\n",
    "unpacking_dict(name = 'joon' , hobby = \"요리\", major = '경제') # 전달되는 값은 위와 똑같다."
   ]
  },
  {
   "cell_type": "code",
   "execution_count": null,
   "metadata": {},
   "outputs": [],
   "source": []
  }
 ],
 "metadata": {
  "kernelspec": {
   "display_name": "Python 3",
   "language": "python",
   "name": "python3"
  },
  "language_info": {
   "codemirror_mode": {
    "name": "ipython",
    "version": 3
   },
   "file_extension": ".py",
   "mimetype": "text/x-python",
   "name": "python",
   "nbconvert_exporter": "python",
   "pygments_lexer": "ipython3",
   "version": "3.8.5"
  }
 },
 "nbformat": 4,
 "nbformat_minor": 4
}
