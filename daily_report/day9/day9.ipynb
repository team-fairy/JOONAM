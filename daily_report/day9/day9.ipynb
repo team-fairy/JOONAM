{
 "cells": [
  {
   "cell_type": "code",
   "execution_count": 24,
   "metadata": {},
   "outputs": [],
   "source": [
    "import pandas as pd \n",
    "import numpy as np\n",
    "\n",
    "data = pd.read_csv('df.csv')\n",
    "data.columns = ['month_code','service_id','user_id','time_spent','number_days']\n",
    "user_dict = dict(zip( data.user_id.unique(), list(range(0, len(data.user_id.unique())))))\n",
    "\n",
    "data.user_id = data.user_id.map(lambda x : user_dict[x])"
   ]
  },
  {
   "cell_type": "markdown",
   "metadata": {},
   "source": [
    "<br></br><br></br>\n",
    "\n",
    "__groupby 의 활용__ \n",
    "\n",
    "- df.groupby([col])  \n",
    "해당 컬럼을 기준으로 속성별로 데이터를 grouped 함"
   ]
  },
  {
   "cell_type": "code",
   "execution_count": 25,
   "metadata": {},
   "outputs": [
    {
     "data": {
      "text/plain": [
       "<pandas.core.groupby.generic.DataFrameGroupBy object at 0x7ff04a086460>"
      ]
     },
     "execution_count": 25,
     "metadata": {},
     "output_type": "execute_result"
    }
   ],
   "source": [
    "data.groupby('service_id')"
   ]
  },
  {
   "cell_type": "markdown",
   "metadata": {},
   "source": [
    "\n",
    "<br></br><br></br>\n",
    "__hierarchical indexing__\n",
    "\n",
    "- 계층적 인덱싱 방법\n",
    "- groupby에서 2개를 인덱스로 잡았을 떄 생성"
   ]
  },
  {
   "cell_type": "code",
   "execution_count": 26,
   "metadata": {},
   "outputs": [],
   "source": [
    "h_index = data.groupby(['user_id','service_id'])['time_spent'].sum()"
   ]
  },
  {
   "cell_type": "markdown",
   "metadata": {},
   "source": [
    "__사용법__"
   ]
  },
  {
   "cell_type": "code",
   "execution_count": 27,
   "metadata": {},
   "outputs": [],
   "source": [
    "h_index.index.names= ['id','contents']"
   ]
  },
  {
   "cell_type": "code",
   "execution_count": 23,
   "metadata": {},
   "outputs": [
    {
     "data": {
      "text/plain": [
       "id     contents\n",
       "0      1           3467.0\n",
       "       4           8829.0\n",
       "       16           275.0\n",
       "       19          9811.0\n",
       "       22           132.0\n",
       "                    ...  \n",
       "47573  19             2.0\n",
       "47574  19           217.0\n",
       "47575  4            137.0\n",
       "47576  19            44.0\n",
       "47577  15           638.0\n",
       "Name: time_spent, Length: 129346, dtype: float64"
      ]
     },
     "execution_count": 23,
     "metadata": {},
     "output_type": "execute_result"
    }
   ],
   "source": [
    "h_index"
   ]
  },
  {
   "cell_type": "code",
   "execution_count": null,
   "metadata": {},
   "outputs": [],
   "source": [
    "h_index.reset_index().head()"
   ]
  },
  {
   "cell_type": "code",
   "execution_count": null,
   "metadata": {},
   "outputs": [],
   "source": [
    "# 인덱스 레별 변환\n",
    "h_index = data.groupby(['service_id','user_id','month_code'])['time_spent'].sum()\n",
    "h_index.swaplevel(i = 0 , j = 1).head()"
   ]
  },
  {
   "cell_type": "markdown",
   "metadata": {},
   "source": [
    "__계층적 인덱스,컬럼 접근, 제거__\n",
    "\n",
    "df.index.droplevel()  \n",
    "df.index.levels[]  \n",
    "df.index.get_level_values()  \n",
    "\n",
    "\n",
    "df.columns.droplevel()  \n",
    "df.columns.get_level_values()  \n",
    "grouped_df.columns.levels[]"
   ]
  },
  {
   "cell_type": "markdown",
   "metadata": {},
   "source": [
    "<br></br><br></br><br></br>\n",
    "\n",
    "__level에 따른 인덱스값 연산__"
   ]
  },
  {
   "cell_type": "code",
   "execution_count": null,
   "metadata": {},
   "outputs": [],
   "source": [
    "h_index.sum(level=1).head()"
   ]
  },
  {
   "cell_type": "markdown",
   "metadata": {},
   "source": [
    "<br></br><br></br>\n",
    "\n",
    "__grouped 상태__\n",
    "\n",
    "- key와 value형태로 묶여 있는 제너레이터 형식의 객체\n",
    "- 컬럼(속성) 의 값들에 따라서 데이터프레임을 묶는다!!  \n",
    "        ('속성 값',해당하는 데이터 프레임) 형태의 튜플 \n",
    "- 묶여진 dataframe은 value역할\n",
    "\n"
   ]
  },
  {
   "cell_type": "code",
   "execution_count": null,
   "metadata": {},
   "outputs": [],
   "source": [
    "grouped = data.groupby(['service_id','user_id','month_code'])"
   ]
  },
  {
   "cell_type": "code",
   "execution_count": null,
   "metadata": {},
   "outputs": [],
   "source": [
    "list(grouped)[:10]"
   ]
  },
  {
   "cell_type": "code",
   "execution_count": null,
   "metadata": {},
   "outputs": [],
   "source": [
    "grouped.get_group((1,11898,202002))"
   ]
  },
  {
   "cell_type": "markdown",
   "metadata": {},
   "source": [
    "<br></br><br></br>\n",
    "\n",
    "__grouped 함수에 다양한 적용__\n",
    "\n",
    "__agg__ 의 활용"
   ]
  },
  {
   "cell_type": "code",
   "execution_count": null,
   "metadata": {
    "scrolled": true
   },
   "outputs": [],
   "source": [
    "# agg\n",
    "grouped = data.groupby(['service_id'])\n",
    "grouped['time_spent'].agg(lambda x : np.quantile(x,0.25)) # lambda를 이용한 함수사용 가능\n",
    "grouped['time_spent'].agg([np.sum, np.mean]) # 하나의 컬럼에 여러가지 사용가능"
   ]
  },
  {
   "cell_type": "markdown",
   "metadata": {},
   "source": [
    "__agg 심화 버전__"
   ]
  },
  {
   "cell_type": "code",
   "execution_count": null,
   "metadata": {},
   "outputs": [],
   "source": [
    "grouped = data.groupby(['service_id'])\n",
    "grouped_df = grouped.agg({ 'time_spent' :[np.mean, np.max, lambda x : np.quantile(x,0.5)],\n",
    "            'number_days' : ['min','max']})\n"
   ]
  },
  {
   "cell_type": "code",
   "execution_count": null,
   "metadata": {},
   "outputs": [],
   "source": [
    "grouped['time_spent'].describe().T"
   ]
  },
  {
   "cell_type": "markdown",
   "metadata": {},
   "source": [
    "<br></br><br></br>\n",
    "\n",
    "__group 별 통계량들을 개인 데이터에 적용하고 싶을때!!__  \n",
    "\n",
    "__transform__"
   ]
  },
  {
   "cell_type": "code",
   "execution_count": null,
   "metadata": {},
   "outputs": [],
   "source": [
    "# transform!!\n",
    "def max_(x): # 여기서 받는 x는 group으로 묶인 데이터프레임이 들어간다.\n",
    "    return max(x) # group된 데이터들 끼리 개별 row에다 반환\n",
    "grouped.transform(max_)"
   ]
  },
  {
   "cell_type": "markdown",
   "metadata": {},
   "source": [
    "__group 별로 개별 통계량에 따른 정규화 사용법__\n",
    "- transform을 활용하여 개별 row에다가 적용"
   ]
  },
  {
   "cell_type": "code",
   "execution_count": null,
   "metadata": {},
   "outputs": [],
   "source": [
    "grouped = data.groupby(['service_id'])[['time_spent','number_days']]\n",
    "def get_minmax(x):\n",
    "    return (x - min(x))/(max(x)) # numpy 행렬 연산이 기반이라 그냥 더하기 하면 벡터 + 스칼라 그리고 스칼라 곱이된다.\n",
    "grouped.transform(get_minmax)"
   ]
  },
  {
   "cell_type": "markdown",
   "metadata": {},
   "source": [
    "<br></br><br></br>\n",
    "\n",
    "__filter의 활용__\n",
    "\n",
    "- group된 데이터들을 보면서 일정 기준에 맞는 데이터만 반환한다.\n",
    "- filter안에서의 함수는 boolean이 반환되도록 해야한다.\n",
    "- 조건문에 따른 결과 반환이 아닌 True, False 만 반환하여서 loc과 같은 적용을 group별로 실행한다."
   ]
  },
  {
   "cell_type": "code",
   "execution_count": null,
   "metadata": {},
   "outputs": [],
   "source": [
    "def test_(x):\n",
    "    if len(x) > 3:\n",
    "        return True\n",
    "    return False\n",
    "data.groupby(['service_id'])[['service_id','time_spent','number_days']].filter(test_).head()"
   ]
  },
  {
   "cell_type": "markdown",
   "metadata": {},
   "source": [
    "<br></br><br></br>\n",
    "\n",
    "__pivot table과의 차이점__  \n",
    "\n",
    "groupby는 그룹으로 묶어 주고 다양한? 연산이 가능한편  \n",
    "반면 Pivot table의 경우 수치 연산에 특화되어 있다."
   ]
  },
  {
   "cell_type": "markdown",
   "metadata": {},
   "source": [
    "<br></br><br></br>\n",
    "\n",
    "__Crosstab__  \n",
    "\n",
    "user_item_matrix 만들기에 특화가 되어있다. "
   ]
  },
  {
   "cell_type": "code",
   "execution_count": null,
   "metadata": {},
   "outputs": [],
   "source": [
    "pd.crosstab( index= data.user_id, columns = data.service_id, values = data.time_spent, aggfunc = 'sum')"
   ]
  }
 ],
 "metadata": {
  "kernelspec": {
   "display_name": "Python 3",
   "language": "python",
   "name": "python3"
  },
  "language_info": {
   "codemirror_mode": {
    "name": "ipython",
    "version": 3
   },
   "file_extension": ".py",
   "mimetype": "text/x-python",
   "name": "python",
   "nbconvert_exporter": "python",
   "pygments_lexer": "ipython3",
   "version": "3.8.5"
  }
 },
 "nbformat": 4,
 "nbformat_minor": 4
}
