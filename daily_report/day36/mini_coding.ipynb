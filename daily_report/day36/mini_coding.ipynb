{
 "cells": [
  {
   "cell_type": "markdown",
   "id": "sufficient-brooklyn",
   "metadata": {},
   "source": [
    "## 강의 1\n",
    "\n",
    "mini code"
   ]
  },
  {
   "cell_type": "code",
   "execution_count": 3,
   "id": "negative-suspect",
   "metadata": {},
   "outputs": [
    {
     "name": "stdout",
     "output_type": "stream",
     "text": [
      "True\n",
      "True\n",
      "True\n",
      "False\n"
     ]
    }
   ],
   "source": [
    "a = 256\n",
    "print(a == 256)\n",
    "print(a is 256)\n",
    "\n",
    "b = 257\n",
    "print(b == 257)\n",
    "print(b is 257)"
   ]
  },
  {
   "cell_type": "code",
   "execution_count": 4,
   "id": "pending-layer",
   "metadata": {},
   "outputs": [
    {
     "name": "stdout",
     "output_type": "stream",
     "text": [
      "24\n",
      "28\n",
      "28\n",
      "32\n",
      "32\n",
      "36\n",
      "36\n",
      "40\n"
     ]
    }
   ],
   "source": [
    "import sys\n",
    "\n",
    "print(sys.getsizeof(0))\n",
    "print(sys.getsizeof(1))\n",
    "print(sys.getsizeof(2 ** 30 - 1))\n",
    "print(sys.getsizeof(2 ** 30))\n",
    "print(sys.getsizeof(2 ** 60 - 1))\n",
    "print(sys.getsizeof(2 ** 60))\n",
    "print(sys.getsizeof(2 ** 90 - 1))\n",
    "print(sys.getsizeof(2 ** 90))"
   ]
  },
  {
   "cell_type": "code",
   "execution_count": 5,
   "id": "minus-craft",
   "metadata": {},
   "outputs": [
    {
     "name": "stdout",
     "output_type": "stream",
     "text": [
      "30 ('a', 'b', 'c')\n",
      "  5           0 LOAD_FAST                0 (a)\n",
      "              2 LOAD_FAST                1 (b)\n",
      "              4 BINARY_ADD\n",
      "              6 STORE_FAST               2 (c)\n",
      "\n",
      "  6           8 LOAD_FAST                2 (c)\n",
      "             10 RETURN_VALUE\n",
      "30 ('a', 'b')\n",
      " 13           0 LOAD_FAST                0 (a)\n",
      "              2 LOAD_FAST                1 (b)\n",
      "              4 BINARY_ADD\n",
      "              6 RETURN_VALUE\n"
     ]
    }
   ],
   "source": [
    "# bytecode 역어셈블러\n",
    "import dis\n",
    "\n",
    "def add(a,b):\n",
    "    c = a+b\n",
    "    return c\n",
    "\n",
    "r = add(10,20)\n",
    "print(r, add.__code__.co_varnames)\n",
    "dis.dis(add)\n",
    "\n",
    "def add(a,b):\n",
    "    return a+b\n",
    "\n",
    "r = add(10,20)\n",
    "print(r, add.__code__.co_varnames)\n",
    "dis.dis(add)\n"
   ]
  },
  {
   "cell_type": "code",
   "execution_count": 6,
   "id": "unnecessary-desert",
   "metadata": {},
   "outputs": [
    {
     "name": "stdout",
     "output_type": "stream",
     "text": [
      "True\n",
      "False\n",
      "False\n",
      "False\n",
      "  1           0 LOAD_NAME                0 (print)\n",
      "              2 LOAD_CONST               0 (4)\n",
      "              4 LOAD_CONST               1 (0)\n",
      "              6 DUP_TOP\n",
      "              8 ROT_THREE\n",
      "             10 COMPARE_OP               3 (!=)\n",
      "             12 JUMP_IF_FALSE_OR_POP    20\n",
      "             14 LOAD_CONST               2 ((0, 1, 2, 3))\n",
      "             16 COMPARE_OP               7 (not in)\n",
      "             18 JUMP_FORWARD             4 (to 24)\n",
      "        >>   20 ROT_TWO\n",
      "             22 POP_TOP\n",
      "        >>   24 CALL_FUNCTION            1\n",
      "             26 RETURN_VALUE\n"
     ]
    }
   ],
   "source": [
    "print(4!=0 not in [1,2,3] )\n",
    "print((4!=0) not in [1,2,3] )\n",
    "print(4!=0 not in [0,1,2,3] )\n",
    "print((4!=0) not in [0,1,2,3] )\n",
    "\n",
    "dis.dis(\"print(4!=0 not in [0,1,2,3] )\")"
   ]
  },
  {
   "cell_type": "markdown",
   "id": "bulgarian-probe",
   "metadata": {},
   "source": [
    "## 강의 2\n",
    "\n",
    "컴퓨터 리소스에 관한 정보들 명령어"
   ]
  },
  {
   "cell_type": "markdown",
   "id": "gentle-resident",
   "metadata": {},
   "source": [
    "__resource lib__"
   ]
  },
  {
   "cell_type": "code",
   "execution_count": 23,
   "id": "supported-vietnamese",
   "metadata": {},
   "outputs": [
    {
     "data": {
      "text/plain": [
       "8192.0"
      ]
     },
     "execution_count": 23,
     "metadata": {},
     "output_type": "execute_result"
    }
   ],
   "source": [
    "(resource.getrlimit(resource.RLIMIT_AS)[0])/1024**5"
   ]
  },
  {
   "cell_type": "code",
   "execution_count": 2,
   "id": "theoretical-change",
   "metadata": {},
   "outputs": [
    {
     "name": "stdout",
     "output_type": "stream",
     "text": [
      "(9223372036854775807, 9223372036854775807)\n"
     ]
    },
    {
     "data": {
      "text/plain": [
       "8796093022208.0"
      ]
     },
     "execution_count": 2,
     "metadata": {},
     "output_type": "execute_result"
    }
   ],
   "source": [
    "import resource\n",
    "\n",
    "# See -1, -1 for the initial setting\n",
    "print(resource.getrlimit(resource.RLIMIT_AS))              # print out in bytes\n",
    "\n",
    "\n",
    "def memory_limit(ratio):\n",
    "    soft, hard = resource.getrlimit(resource.RLIMIT_AS) # 메모리를 미리 할당을 하는 단계에서 미리 정의하는 방법이 soft이다. 이렇게 미리 알려줌으로서 할당하는 속도를 조금 빠르게 한다.\n",
    "    resource.setrlimit(resource.RLIMIT_AS, (get_memory() * 1024 * ratio, hard)) # KB -> Byte\n",
    "\n",
    "def get_memory():\n",
    "    with open('/proc/meminfo', 'r') as mem:\n",
    "        free_memory = 0\n",
    "        for i in mem:\n",
    "            sline = i.split()\n",
    "            if str(sline[0]) in ('MemFree:', 'Buffers:', 'Cached:'):\n",
    "                free_memory += int(sline[1]) # Free_memory = MemFree+Buffers+Cached\n",
    "    return free_memory\n",
    "\n",
    "\n",
    "# Check memory limit in MB\n",
    "round(resource.getrlimit(resource.RLIMIT_AS)[0]/(1024*1024), 3) # resource.RLIMIT_AS returns in MB (ref: https://docs.python.org/3/library/resource.html)\n",
    "\n",
    "# Restrict memory_limit up to 80%\n",
    "# memory_limit(0.000000001)\n",
    "\n",
    "# Check memory limit in MB\n",
    "round(resource.getrlimit(resource.RLIMIT_AS)[0]/(1024*1024), 3) # resource.RLIMIT_AS returns in MB (ref: https://docs.python.org/3/library/resource.html)"
   ]
  },
  {
   "cell_type": "markdown",
   "id": "magnetic-possession",
   "metadata": {},
   "source": [
    "## 강의 3\n",
    "\n",
    "mini code"
   ]
  },
  {
   "cell_type": "code",
   "execution_count": 1,
   "id": "protected-coalition",
   "metadata": {},
   "outputs": [],
   "source": [
    "from scipy.spatial import distance"
   ]
  },
  {
   "cell_type": "code",
   "execution_count": 2,
   "id": "solar-standing",
   "metadata": {},
   "outputs": [
    {
     "name": "stdout",
     "output_type": "stream",
     "text": [
      "1.4142135623730951\n",
      "1.0\n",
      "0.6666666666666666\n",
      "0.3333333333333333\n",
      "0.3333333333333333\n",
      "0.3333333333333333\n",
      "1.0\n",
      "1.0\n",
      "0.29289321881345254\n"
     ]
    }
   ],
   "source": [
    "print(distance.euclidean([1,0,0],[0,1,0]))\n",
    "print(distance.euclidean([1,1,0],[0,1,0]))\n",
    "\n",
    "print(distance.hamming([1,0,0],[0,1,0]))\n",
    "print(distance.hamming([1,0,0],[1,1,0]))\n",
    "print(distance.hamming([1,0,0],[2,0,0]))\n",
    "print(distance.hamming([1,0,0],[3,0,0]))\n",
    "\n",
    "print(distance.cosine([1,0,0],[0,1,0]))\n",
    "print(distance.cosine([100,0,0],[0,1,0]))\n",
    "print(distance.cosine([1,1,0],[0,1,0]))"
   ]
  }
 ],
 "metadata": {
  "kernelspec": {
   "display_name": "Python [conda env:python_3.7] *",
   "language": "python",
   "name": "conda-env-python_3.7-py"
  },
  "language_info": {
   "codemirror_mode": {
    "name": "ipython",
    "version": 3
   },
   "file_extension": ".py",
   "mimetype": "text/x-python",
   "name": "python",
   "nbconvert_exporter": "python",
   "pygments_lexer": "ipython3",
   "version": "3.7.9"
  }
 },
 "nbformat": 4,
 "nbformat_minor": 5
}
