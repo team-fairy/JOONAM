{
 "cells": [
  {
   "cell_type": "markdown",
   "id": "dangerous-stationery",
   "metadata": {},
   "source": [
    "## 강의 1\n",
    "\n",
    "mini code"
   ]
  },
  {
   "cell_type": "code",
   "execution_count": 3,
   "id": "southwest-composite",
   "metadata": {},
   "outputs": [
    {
     "name": "stdout",
     "output_type": "stream",
     "text": [
      "True\n",
      "True\n",
      "True\n",
      "False\n"
     ]
    }
   ],
   "source": [
    "a = 256\n",
    "print(a == 256)\n",
    "print(a is 256)\n",
    "\n",
    "b = 257\n",
    "print(b == 257)\n",
    "print(b is 257)"
   ]
  },
  {
   "cell_type": "code",
   "execution_count": 4,
   "id": "proved-network",
   "metadata": {},
   "outputs": [
    {
     "name": "stdout",
     "output_type": "stream",
     "text": [
      "24\n",
      "28\n",
      "28\n",
      "32\n",
      "32\n",
      "36\n",
      "36\n",
      "40\n"
     ]
    }
   ],
   "source": [
    "import sys\n",
    "\n",
    "print(sys.getsizeof(0))\n",
    "print(sys.getsizeof(1))\n",
    "print(sys.getsizeof(2 ** 30 - 1))\n",
    "print(sys.getsizeof(2 ** 30))\n",
    "print(sys.getsizeof(2 ** 60 - 1))\n",
    "print(sys.getsizeof(2 ** 60))\n",
    "print(sys.getsizeof(2 ** 90 - 1))\n",
    "print(sys.getsizeof(2 ** 90))"
   ]
  },
  {
   "cell_type": "code",
   "execution_count": 5,
   "id": "silent-running",
   "metadata": {},
   "outputs": [
    {
     "name": "stdout",
     "output_type": "stream",
     "text": [
      "30 ('a', 'b', 'c')\n",
      "  5           0 LOAD_FAST                0 (a)\n",
      "              2 LOAD_FAST                1 (b)\n",
      "              4 BINARY_ADD\n",
      "              6 STORE_FAST               2 (c)\n",
      "\n",
      "  6           8 LOAD_FAST                2 (c)\n",
      "             10 RETURN_VALUE\n",
      "30 ('a', 'b')\n",
      " 13           0 LOAD_FAST                0 (a)\n",
      "              2 LOAD_FAST                1 (b)\n",
      "              4 BINARY_ADD\n",
      "              6 RETURN_VALUE\n"
     ]
    }
   ],
   "source": [
    "# bytecode 역어셈블러\n",
    "import dis\n",
    "\n",
    "def add(a,b):\n",
    "    c = a+b\n",
    "    return c\n",
    "\n",
    "r = add(10,20)\n",
    "print(r, add.__code__.co_varnames)\n",
    "dis.dis(add)\n",
    "\n",
    "def add(a,b):\n",
    "    return a+b\n",
    "\n",
    "r = add(10,20)\n",
    "print(r, add.__code__.co_varnames)\n",
    "dis.dis(add)\n"
   ]
  },
  {
   "cell_type": "code",
   "execution_count": 6,
   "id": "civilian-correspondence",
   "metadata": {},
   "outputs": [
    {
     "name": "stdout",
     "output_type": "stream",
     "text": [
      "True\n",
      "False\n",
      "False\n",
      "False\n",
      "  1           0 LOAD_NAME                0 (print)\n",
      "              2 LOAD_CONST               0 (4)\n",
      "              4 LOAD_CONST               1 (0)\n",
      "              6 DUP_TOP\n",
      "              8 ROT_THREE\n",
      "             10 COMPARE_OP               3 (!=)\n",
      "             12 JUMP_IF_FALSE_OR_POP    20\n",
      "             14 LOAD_CONST               2 ((0, 1, 2, 3))\n",
      "             16 COMPARE_OP               7 (not in)\n",
      "             18 JUMP_FORWARD             4 (to 24)\n",
      "        >>   20 ROT_TWO\n",
      "             22 POP_TOP\n",
      "        >>   24 CALL_FUNCTION            1\n",
      "             26 RETURN_VALUE\n"
     ]
    }
   ],
   "source": [
    "print(4!=0 not in [1,2,3] )\n",
    "print((4!=0) not in [1,2,3] )\n",
    "print(4!=0 not in [0,1,2,3] )\n",
    "print((4!=0) not in [0,1,2,3] )\n",
    "\n",
    "dis.dis(\"print(4!=0 not in [0,1,2,3] )\")"
   ]
  },
  {
   "cell_type": "markdown",
   "id": "negative-offense",
   "metadata": {},
   "source": [
    "## 강의 2\n",
    "\n",
    "컴퓨터 리소스에 관한 정보들 명령어"
   ]
  },
  {
   "cell_type": "markdown",
   "id": "higher-extreme",
   "metadata": {},
   "source": [
    "## 강의 3\n",
    "\n",
    "mini code"
   ]
  },
  {
   "cell_type": "code",
   "execution_count": 1,
   "id": "latest-finland",
   "metadata": {},
   "outputs": [],
   "source": [
    "from scipy.spatial import distance"
   ]
  },
  {
   "cell_type": "code",
   "execution_count": 2,
   "id": "terminal-deputy",
   "metadata": {},
   "outputs": [
    {
     "name": "stdout",
     "output_type": "stream",
     "text": [
      "1.4142135623730951\n",
      "1.0\n",
      "0.6666666666666666\n",
      "0.3333333333333333\n",
      "0.3333333333333333\n",
      "0.3333333333333333\n",
      "1.0\n",
      "1.0\n",
      "0.29289321881345254\n"
     ]
    }
   ],
   "source": [
    "print(distance.euclidean([1,0,0],[0,1,0]))\n",
    "print(distance.euclidean([1,1,0],[0,1,0]))\n",
    "\n",
    "print(distance.hamming([1,0,0],[0,1,0]))\n",
    "print(distance.hamming([1,0,0],[1,1,0]))\n",
    "print(distance.hamming([1,0,0],[2,0,0]))\n",
    "print(distance.hamming([1,0,0],[3,0,0]))\n",
    "\n",
    "print(distance.cosine([1,0,0],[0,1,0]))\n",
    "print(distance.cosine([100,0,0],[0,1,0]))\n",
    "print(distance.cosine([1,1,0],[0,1,0]))"
   ]
  }
 ],
 "metadata": {
  "kernelspec": {
   "display_name": "Python [conda env:python_3.7] *",
   "language": "python",
   "name": "conda-env-python_3.7-py"
  },
  "language_info": {
   "codemirror_mode": {
    "name": "ipython",
    "version": 3
   },
   "file_extension": ".py",
   "mimetype": "text/x-python",
   "name": "python",
   "nbconvert_exporter": "python",
   "pygments_lexer": "ipython3",
   "version": "3.7.9"
  }
 },
 "nbformat": 4,
 "nbformat_minor": 5
}
