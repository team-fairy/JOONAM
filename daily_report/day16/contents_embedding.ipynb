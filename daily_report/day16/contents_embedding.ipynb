{
 "cells": [
  {
   "cell_type": "code",
   "execution_count": 1,
   "id": "quarterly-albany",
   "metadata": {},
   "outputs": [],
   "source": [
    "import os\n",
    "import json\n",
    "import pandas as pd\n",
    "\n",
    "from tqdm import tqdm\n",
    "from gensim.models import Word2Vec\n",
    "from gensim.models.keyedvectors import WordEmbeddingsKeyedVectors\n",
    "\n",
    "\n",
    "import json\n",
    "\n",
    "\n",
    "with open('/Users/joons/work_directory/python_notebook/melon/KakaoArena/data/train.json' , encoding = 'utf-8' ) as f:\n",
    "    train = json.load(f)\n",
    "song_meta = pd.read_json('/Users/joons/work_directory/python_notebook/melon/KakaoArena/data/song_meta.json')\n",
    "song_meta = song_meta[['id','song_name','artist_name_basket']]"
   ]
  },
  {
   "cell_type": "code",
   "execution_count": 2,
   "id": "educational-execution",
   "metadata": {},
   "outputs": [
    {
     "name": "stdout",
     "output_type": "stream",
     "text": [
      "115071\n"
     ]
    }
   ],
   "source": [
    "print(len(train))"
   ]
  },
  {
   "cell_type": "code",
   "execution_count": 3,
   "id": "satisfied-brain",
   "metadata": {},
   "outputs": [
    {
     "data": {
      "text/html": [
       "<div>\n",
       "<style scoped>\n",
       "    .dataframe tbody tr th:only-of-type {\n",
       "        vertical-align: middle;\n",
       "    }\n",
       "\n",
       "    .dataframe tbody tr th {\n",
       "        vertical-align: top;\n",
       "    }\n",
       "\n",
       "    .dataframe thead th {\n",
       "        text-align: right;\n",
       "    }\n",
       "</style>\n",
       "<table border=\"1\" class=\"dataframe\">\n",
       "  <thead>\n",
       "    <tr style=\"text-align: right;\">\n",
       "      <th></th>\n",
       "      <th>tags</th>\n",
       "      <th>id</th>\n",
       "      <th>plylst_title</th>\n",
       "      <th>songs</th>\n",
       "      <th>like_cnt</th>\n",
       "      <th>updt_date</th>\n",
       "    </tr>\n",
       "  </thead>\n",
       "  <tbody>\n",
       "    <tr>\n",
       "      <th>0</th>\n",
       "      <td>[락]</td>\n",
       "      <td>61281</td>\n",
       "      <td>여행같은 음악</td>\n",
       "      <td>[525514, 129701, 383374, 562083, 297861, 13954...</td>\n",
       "      <td>71</td>\n",
       "      <td>2013-12-19 18:36:19.000</td>\n",
       "    </tr>\n",
       "    <tr>\n",
       "      <th>1</th>\n",
       "      <td>[추억, 회상]</td>\n",
       "      <td>10532</td>\n",
       "      <td>요즘 너 말야</td>\n",
       "      <td>[432406, 675945, 497066, 120377, 389529, 24427...</td>\n",
       "      <td>1</td>\n",
       "      <td>2014-12-02 16:19:42.000</td>\n",
       "    </tr>\n",
       "    <tr>\n",
       "      <th>2</th>\n",
       "      <td>[까페, 잔잔한]</td>\n",
       "      <td>76951</td>\n",
       "      <td>편하게, 잔잔하게 들을 수 있는 곡.-</td>\n",
       "      <td>[83116, 276692, 166267, 186301, 354465, 256598...</td>\n",
       "      <td>17</td>\n",
       "      <td>2017-08-28 07:09:34.000</td>\n",
       "    </tr>\n",
       "    <tr>\n",
       "      <th>3</th>\n",
       "      <td>[연말, 눈오는날, 캐럴, 분위기, 따듯한, 크리스마스캐럴, 겨울노래, 크리스마스,...</td>\n",
       "      <td>147456</td>\n",
       "      <td>크리스마스 분위기에 흠뻑 취하고 싶을때</td>\n",
       "      <td>[394031, 195524, 540149, 287984, 440773, 10033...</td>\n",
       "      <td>33</td>\n",
       "      <td>2019-12-05 15:15:18.000</td>\n",
       "    </tr>\n",
       "    <tr>\n",
       "      <th>4</th>\n",
       "      <td>[댄스]</td>\n",
       "      <td>27616</td>\n",
       "      <td>추억의 노래 ㅋ</td>\n",
       "      <td>[159327, 553610, 5130, 645103, 294435, 100657,...</td>\n",
       "      <td>9</td>\n",
       "      <td>2011-10-25 13:54:56.000</td>\n",
       "    </tr>\n",
       "  </tbody>\n",
       "</table>\n",
       "</div>"
      ],
      "text/plain": [
       "                                                tags      id  \\\n",
       "0                                                [락]   61281   \n",
       "1                                           [추억, 회상]   10532   \n",
       "2                                          [까페, 잔잔한]   76951   \n",
       "3  [연말, 눈오는날, 캐럴, 분위기, 따듯한, 크리스마스캐럴, 겨울노래, 크리스마스,...  147456   \n",
       "4                                               [댄스]   27616   \n",
       "\n",
       "            plylst_title                                              songs  \\\n",
       "0                여행같은 음악  [525514, 129701, 383374, 562083, 297861, 13954...   \n",
       "1                요즘 너 말야  [432406, 675945, 497066, 120377, 389529, 24427...   \n",
       "2  편하게, 잔잔하게 들을 수 있는 곡.-  [83116, 276692, 166267, 186301, 354465, 256598...   \n",
       "3  크리스마스 분위기에 흠뻑 취하고 싶을때  [394031, 195524, 540149, 287984, 440773, 10033...   \n",
       "4               추억의 노래 ㅋ  [159327, 553610, 5130, 645103, 294435, 100657,...   \n",
       "\n",
       "   like_cnt                updt_date  \n",
       "0        71  2013-12-19 18:36:19.000  \n",
       "1         1  2014-12-02 16:19:42.000  \n",
       "2        17  2017-08-28 07:09:34.000  \n",
       "3        33  2019-12-05 15:15:18.000  \n",
       "4         9  2011-10-25 13:54:56.000  "
      ]
     },
     "execution_count": 3,
     "metadata": {},
     "output_type": "execute_result"
    }
   ],
   "source": [
    "data = pd.DataFrame(train[:100])\n",
    "data.head()"
   ]
  },
  {
   "cell_type": "markdown",
   "id": "intensive-airline",
   "metadata": {},
   "source": [
    "### 전처리"
   ]
  },
  {
   "cell_type": "code",
   "execution_count": 5,
   "id": "crude-incentive",
   "metadata": {},
   "outputs": [
    {
     "name": "stderr",
     "output_type": "stream",
     "text": [
      "100%|██████████| 115071/115071 [00:00<00:00, 648905.26it/s]\n"
     ]
    }
   ],
   "source": [
    "from tqdm import tqdm\n",
    "\n",
    "song_dic = {}\n",
    "tag_dic = {}\n",
    "\n",
    "data = train \n",
    "for q in tqdm(data):\n",
    "    song_dic[ str( q['id'] ) ] = q['songs']\n",
    "    tag_dic[ str( q['id'] ) ] = q['tags']\n",
    "    \n",
    "total = list( map( lambda x : list( map(str , x['songs'])) + list( x['tags']) , data))\n",
    "total = [ x for x in total if len(x) > 1]"
   ]
  },
  {
   "cell_type": "markdown",
   "id": "requested-savings",
   "metadata": {},
   "source": [
    "<br></br><br></br>\n",
    "\n",
    "Embedding"
   ]
  },
  {
   "cell_type": "code",
   "execution_count": 6,
   "id": "later-polymer",
   "metadata": {},
   "outputs": [],
   "source": [
    "w2v_model = Word2Vec( total[: 10000 ] , min_count = 1 , size = 32 , window = 5 ,sg = 1)"
   ]
  },
  {
   "cell_type": "code",
   "execution_count": 7,
   "id": "disciplinary-error",
   "metadata": {},
   "outputs": [
    {
     "data": {
      "text/plain": [
       "array([[ 1.7072518 ,  0.30986273, -0.84273595, -1.57937   ,  1.2243936 ,\n",
       "        -1.2356309 , -0.3445803 , -1.039198  , -0.4941444 ,  1.8235054 ,\n",
       "         0.6134956 , -2.8927789 , -0.23839399, -0.17302892,  2.226164  ,\n",
       "        -1.1752524 ,  0.8505482 ,  0.8412116 ,  0.864127  , -1.663487  ,\n",
       "        -0.07474238, -1.3666345 ,  1.0315909 , -1.2872353 , -0.6383945 ,\n",
       "        -0.20910506, -0.8298315 ,  1.4533874 ,  0.30448964, -3.2909472 ,\n",
       "        -0.853124  ,  0.713152  ],\n",
       "       [ 1.2686348 ,  0.45827404, -0.7100548 , -1.7408212 ,  1.4168236 ,\n",
       "        -1.4690228 ,  0.5390897 , -0.65708596, -0.2513751 ,  1.2875065 ,\n",
       "         0.9295601 , -2.6779683 ,  0.45979244, -0.65621537,  1.0561393 ,\n",
       "        -0.77993125,  0.7051674 ,  0.99514955,  0.43472368, -0.78745717,\n",
       "        -0.77018297, -1.5746156 ,  0.35138062, -0.76858217,  0.61311364,\n",
       "        -0.19802369, -1.0858772 ,  1.198889  ,  0.23989329, -2.9667974 ,\n",
       "        -0.6876013 ,  0.7794777 ]], dtype=float32)"
      ]
     },
     "execution_count": 7,
     "metadata": {},
     "output_type": "execute_result"
    }
   ],
   "source": [
    "w2v_model.wv.vectors[:2]"
   ]
  },
  {
   "cell_type": "code",
   "execution_count": 8,
   "id": "moderate-sperm",
   "metadata": {},
   "outputs": [
    {
     "name": "stdout",
     "output_type": "stream",
     "text": [
      "163670\n"
     ]
    }
   ],
   "source": [
    "print(len(list(w2v_model.wv.vocab.keys())))\n",
    "\n",
    "\n",
    "def get_song_info(content):\n",
    "    return song_meta.loc[song_meta.id == int(content)]\n",
    "\n",
    "def compare_w2v( content ):\n",
    "    print(content)\n",
    "    print('similar_contents')\n",
    "    for c,sim in w2v_model.wv.similar_by_word(content):\n",
    "        try :\n",
    "            c = int(c)\n",
    "            tmp = get_song_info(c).values[0]\n",
    "            print(f\"song : {tmp[1]} artist : {tmp[2]} song_id :{tmp[0]}\")\n",
    "        except ValueError:\n",
    "            print(f\"tag : {c}\")\n",
    "            pass\n",
    "        \n",
    "        "
   ]
  },
  {
   "cell_type": "code",
   "execution_count": 9,
   "id": "tough-worst",
   "metadata": {},
   "outputs": [
    {
     "data": {
      "text/html": [
       "<div>\n",
       "<style scoped>\n",
       "    .dataframe tbody tr th:only-of-type {\n",
       "        vertical-align: middle;\n",
       "    }\n",
       "\n",
       "    .dataframe tbody tr th {\n",
       "        vertical-align: top;\n",
       "    }\n",
       "\n",
       "    .dataframe thead th {\n",
       "        text-align: right;\n",
       "    }\n",
       "</style>\n",
       "<table border=\"1\" class=\"dataframe\">\n",
       "  <thead>\n",
       "    <tr style=\"text-align: right;\">\n",
       "      <th></th>\n",
       "      <th>id</th>\n",
       "      <th>song_name</th>\n",
       "      <th>artist_name_basket</th>\n",
       "    </tr>\n",
       "  </thead>\n",
       "  <tbody>\n",
       "    <tr>\n",
       "      <th>152422</th>\n",
       "      <td>152422</td>\n",
       "      <td>너무 보고싶어</td>\n",
       "      <td>[어쿠스틱 콜라보]</td>\n",
       "    </tr>\n",
       "  </tbody>\n",
       "</table>\n",
       "</div>"
      ],
      "text/plain": [
       "            id song_name artist_name_basket\n",
       "152422  152422   너무 보고싶어         [어쿠스틱 콜라보]"
      ]
     },
     "execution_count": 9,
     "metadata": {},
     "output_type": "execute_result"
    }
   ],
   "source": [
    "contents = list(w2v_model.wv.vocab.keys())\n",
    "get_song_info(contents[45])"
   ]
  },
  {
   "cell_type": "code",
   "execution_count": 10,
   "id": "sized-matter",
   "metadata": {},
   "outputs": [
    {
     "name": "stdout",
     "output_type": "stream",
     "text": [
      "152422\n",
      "similar_contents\n",
      "song : 고백 artist : ['정준일'] song_id :59003\n",
      "song : 그냥 (Just) artist : ['Zion.T', 'Crush'] song_id :339124\n",
      "song : 언제쯤이면 (Duet.아이유) artist : ['윤현상'] song_id :298103\n",
      "song : 진심 (Feat. 임세준) artist : ['정키'] song_id :151183\n",
      "song : 너의 모든 순간 artist : ['성시경'] song_id :295250\n",
      "song : 스토커 artist : ['10CM'] song_id :449244\n",
      "song : 이 소설의 끝을 다시 써보려 해 artist : ['한동근'] song_id :543820\n",
      "song : 시간과 낙엽 artist : ['AKMU (악동뮤지션)'] song_id :609835\n",
      "song : 거짓말 거짓말 거짓말 artist : ['이적'] song_id :13142\n",
      "song : 바람이 불었으면 좋겠어 artist : ['길구봉구'] song_id :357489\n"
     ]
    }
   ],
   "source": [
    "compare_w2v('152422')"
   ]
  },
  {
   "cell_type": "code",
   "execution_count": 11,
   "id": "confirmed-kruger",
   "metadata": {},
   "outputs": [
    {
     "data": {
      "text/html": [
       "<div>\n",
       "<style scoped>\n",
       "    .dataframe tbody tr th:only-of-type {\n",
       "        vertical-align: middle;\n",
       "    }\n",
       "\n",
       "    .dataframe tbody tr th {\n",
       "        vertical-align: top;\n",
       "    }\n",
       "\n",
       "    .dataframe thead th {\n",
       "        text-align: right;\n",
       "    }\n",
       "</style>\n",
       "<table border=\"1\" class=\"dataframe\">\n",
       "  <thead>\n",
       "    <tr style=\"text-align: right;\">\n",
       "      <th></th>\n",
       "      <th>id</th>\n",
       "      <th>song_name</th>\n",
       "      <th>artist_name_basket</th>\n",
       "    </tr>\n",
       "  </thead>\n",
       "  <tbody>\n",
       "    <tr>\n",
       "      <th>275121</th>\n",
       "      <td>275121</td>\n",
       "      <td>뿜뿜</td>\n",
       "      <td>[모모랜드 (MOMOLAND)]</td>\n",
       "    </tr>\n",
       "  </tbody>\n",
       "</table>\n",
       "</div>"
      ],
      "text/plain": [
       "            id song_name artist_name_basket\n",
       "275121  275121        뿜뿜  [모모랜드 (MOMOLAND)]"
      ]
     },
     "execution_count": 11,
     "metadata": {},
     "output_type": "execute_result"
    }
   ],
   "source": [
    "get_song_info(contents[456])"
   ]
  },
  {
   "cell_type": "code",
   "execution_count": 12,
   "id": "pacific-surface",
   "metadata": {
    "scrolled": true
   },
   "outputs": [
    {
     "name": "stdout",
     "output_type": "stream",
     "text": [
      "275121\n",
      "similar_contents\n",
      "song : Roller Coaster artist : ['청하'] song_id :138486\n",
      "song : 주인공 artist : ['선미'] song_id :465654\n",
      "song : 별이 빛나는 밤 artist : ['마마무 (Mamamoo)'] song_id :678035\n",
      "song : Heart Shaker artist : ['TWICE (트와이스)'] song_id :421476\n",
      "song : 사랑을 했다 (LOVE SCENARIO) artist : ['iKON'] song_id :372088\n",
      "song : 여행 artist : ['볼빨간사춘기'] song_id :346619\n",
      "song : 비밀정원 artist : ['오마이걸'] song_id :537208\n",
      "song : LIKEY artist : ['TWICE (트와이스)'] song_id :642\n",
      "song : Bad Boy artist : ['Red Velvet (레드벨벳)'] song_id :588696\n",
      "song : 에너제틱 (Energetic) artist : ['Wanna One (워너원)'] song_id :108003\n"
     ]
    }
   ],
   "source": [
    "compare_w2v('275121')"
   ]
  },
  {
   "cell_type": "code",
   "execution_count": null,
   "id": "functioning-feelings",
   "metadata": {},
   "outputs": [],
   "source": [
    "get_song_info(contents[456])"
   ]
  }
 ],
 "metadata": {
  "kernelspec": {
   "display_name": "Python [conda env:python_3.7] *",
   "language": "python",
   "name": "conda-env-python_3.7-py"
  },
  "language_info": {
   "codemirror_mode": {
    "name": "ipython",
    "version": 3
   },
   "file_extension": ".py",
   "mimetype": "text/x-python",
   "name": "python",
   "nbconvert_exporter": "python",
   "pygments_lexer": "ipython3",
   "version": "3.7.9"
  }
 },
 "nbformat": 4,
 "nbformat_minor": 5
}
