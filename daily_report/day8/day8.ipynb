{
 "cells": [
  {
   "cell_type": "code",
   "execution_count": 4,
   "metadata": {},
   "outputs": [
    {
     "data": {
      "text/latex": [
       "$\\displaystyle \\operatorname{Poly}{\\left( 6 x^{5} + 30 x^{4}y + 60 x^{3}y^{2} + 60 x^{2}y^{3} + 18 x^{2} + 30 xy^{4} + 36 xy + 6 y^{5} + 18 y^{2}, x, y, domain=\\mathbb{Z} \\right)}$"
      ],
      "text/plain": [
       "Poly(6*x**5 + 30*x**4*y + 60*x**3*y**2 + 60*x**2*y**3 + 18*x**2 + 30*x*y**4 + 36*x*y + 6*y**5 + 18*y**2, x, y, domain='ZZ')"
      ]
     },
     "execution_count": 4,
     "metadata": {},
     "output_type": "execute_result"
    }
   ],
   "source": [
    "import sympy as sym\n",
    "from sympy.abc import x,y\n",
    "\n",
    "\n",
    "sym.diff(sym.poly(( (x+y)**3 + 3 )**2) , x)"
   ]
  }
 ],
 "metadata": {
  "kernelspec": {
   "display_name": "Python 3",
   "language": "python",
   "name": "python3"
  },
  "language_info": {
   "codemirror_mode": {
    "name": "ipython",
    "version": 3
   },
   "file_extension": ".py",
   "mimetype": "text/x-python",
   "name": "python",
   "nbconvert_exporter": "python",
   "pygments_lexer": "ipython3",
   "version": "3.8.5"
  }
 },
 "nbformat": 4,
 "nbformat_minor": 4
}
