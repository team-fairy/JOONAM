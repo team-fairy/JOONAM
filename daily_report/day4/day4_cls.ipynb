{
 "cells": [
  {
   "cell_type": "code",
   "execution_count": 1,
   "metadata": {},
   "outputs": [
    {
     "data": {
      "text/plain": [
       "42"
      ]
     },
     "execution_count": 1,
     "metadata": {},
     "output_type": "execute_result"
    }
   ],
   "source": [
    "class ClassTest():\n",
    "    def __init__( self, v1, v2 ): # class를 생성할떄 받을 값들을 정의\n",
    "        ## 객체가 호출되었을때 새롭게 생성된 인스턴스를 초기화 하는 함수이다. 선언하지 않아도 항상 자동으로 실행된다.\n",
    "        self.v1 = v1\n",
    "        self.v2 = v2\n",
    "        self.v3 = 20\n",
    "    def sum_params(self): # 생성된 인스턴스를 통해 받은 값들을 그대로 받는다 함수와, 생성자에서 선언된 변수들 또한 받는다.\n",
    "                        # 쉽게 보면 클래스 내의 전역변수의 느낌이다. \n",
    "        return self.v1 + self.v2 + self.v3\n",
    "    \n",
    "make_instance = ClassTest(2,20) # ClassTest 클래스를 인스터스화 하여 make_instance 라는 변수에 저장하였다.\n",
    "make_instance.sum_params() # 이렇게 된다면 생성된 make_instance의 클래스 내부의 self는 make_instance라 바뀌면 좋다. "
   ]
  },
  {
   "cell_type": "code",
   "execution_count": 2,
   "metadata": {},
   "outputs": [
    {
     "name": "stdout",
     "output_type": "stream",
     "text": [
      "10\n"
     ]
    },
    {
     "ename": "AttributeError",
     "evalue": "'Encapsulation' object has no attribute '__v2'",
     "output_type": "error",
     "traceback": [
      "\u001b[0;31m---------------------------------------------------------------------------\u001b[0m",
      "\u001b[0;31mAttributeError\u001b[0m                            Traceback (most recent call last)",
      "\u001b[0;32m<ipython-input-2-1c8cbacb8ccf>\u001b[0m in \u001b[0;36m<module>\u001b[0;34m\u001b[0m\n\u001b[1;32m      5\u001b[0m \u001b[0mtest_encap\u001b[0m \u001b[0;34m=\u001b[0m \u001b[0mEncapsulation\u001b[0m\u001b[0;34m(\u001b[0m\u001b[0;34m)\u001b[0m\u001b[0;34m\u001b[0m\u001b[0;34m\u001b[0m\u001b[0m\n\u001b[1;32m      6\u001b[0m \u001b[0mprint\u001b[0m\u001b[0;34m(\u001b[0m\u001b[0mtest_encap\u001b[0m\u001b[0;34m.\u001b[0m\u001b[0mv1\u001b[0m\u001b[0;34m)\u001b[0m\u001b[0;34m\u001b[0m\u001b[0;34m\u001b[0m\u001b[0m\n\u001b[0;32m----> 7\u001b[0;31m \u001b[0mprint\u001b[0m\u001b[0;34m(\u001b[0m\u001b[0mtest_encap\u001b[0m\u001b[0;34m.\u001b[0m\u001b[0m__v2\u001b[0m\u001b[0;34m)\u001b[0m \u001b[0;31m# 변수의 접근이 제한된다. 이는 인터프리터가 컴파일 하면서 발생된다.\u001b[0m\u001b[0;34m\u001b[0m\u001b[0;34m\u001b[0m\u001b[0m\n\u001b[0m",
      "\u001b[0;31mAttributeError\u001b[0m: 'Encapsulation' object has no attribute '__v2'"
     ]
    }
   ],
   "source": [
    "class Encapsulation():\n",
    "    def __init__( self ):\n",
    "        self.v1 = 10\n",
    "        self.__v2 = 20     \n",
    "test_encap = Encapsulation()\n",
    "print(test_encap.v1) \n",
    "print(test_encap.__v2) # 변수의 접근이 제한된다. 이는 인터프리터가 컴파일 하면서 발생된다."
   ]
  },
  {
   "cell_type": "code",
   "execution_count": 3,
   "metadata": {},
   "outputs": [
    {
     "name": "stdout",
     "output_type": "stream",
     "text": [
      "20\n"
     ]
    }
   ],
   "source": [
    "print(test_encap._Encapsulation__v2)"
   ]
  },
  {
   "cell_type": "code",
   "execution_count": 4,
   "metadata": {},
   "outputs": [
    {
     "name": "stdout",
     "output_type": "stream",
     "text": [
      "10\n",
      "20\n"
     ]
    }
   ],
   "source": [
    "class Encapsulation():\n",
    "    def __init__( self ):\n",
    "        self.v1 = 10\n",
    "        self.__v2 = 20  \n",
    "    @property\n",
    "    def v2(self):\n",
    "        return self.__v2\n",
    "test_encap = Encapsulation()\n",
    "print(test_encap.v1) \n",
    "print(test_encap.v2) # 변수의 접근이 제한된다. 이는 인터프리터가 컴파일 하면서 발생된다."
   ]
  },
  {
   "cell_type": "markdown",
   "metadata": {},
   "source": [
    "__Closure__"
   ]
  },
  {
   "cell_type": "code",
   "execution_count": 34,
   "metadata": {},
   "outputs": [
    {
     "name": "stdout",
     "output_type": "stream",
     "text": [
      "[3] [3]\n",
      "[3, 4] [3, 4]\n",
      "[3, 4, 12] [3, 4, 12]\n"
     ]
    }
   ],
   "source": [
    "def test_closure(a):\n",
    "    \n",
    "    non_local_var = []\n",
    "    \n",
    "    def inner_func(n):\n",
    "        non_local_var.append(n)\n",
    "        non_local_var2.append(n)\n",
    "        print(non_local_var, non_local_var2)\n",
    "    \n",
    "    non_local_var2 = []\n",
    "    \n",
    "    return inner_func\n",
    "\n",
    "c = test_closure(3)\n",
    "c(3)\n",
    "c(4)\n",
    "c(12)"
   ]
  },
  {
   "cell_type": "code",
   "execution_count": 38,
   "metadata": {},
   "outputs": [
    {
     "data": {
      "text/plain": [
       "(<cell at 0x7fdf3f10d370: list object at 0x7fdf3e7e65c0>,\n",
       " <cell at 0x7fdf3f10d250: list object at 0x7fdf3f10fb40>)"
      ]
     },
     "execution_count": 38,
     "metadata": {},
     "output_type": "execute_result"
    }
   ],
   "source": [
    "c.__closure__"
   ]
  },
  {
   "cell_type": "code",
   "execution_count": null,
   "metadata": {},
   "outputs": [],
   "source": [
    "\n"
   ]
  },
  {
   "cell_type": "markdown",
   "metadata": {},
   "source": [
    "__Decorator__"
   ]
  },
  {
   "cell_type": "code",
   "execution_count": 71,
   "metadata": {},
   "outputs": [
    {
     "name": "stdout",
     "output_type": "stream",
     "text": [
      "{'list_insert': '0.016 seconds'}\n",
      "{'list_insert': '0.016 seconds', 'deque_insert': '2.2 seconds'}\n"
     ]
    },
    {
     "data": {
      "text/plain": [
       "{'list_insert': '0.016 seconds', 'deque_insert': '2.2 seconds'}"
      ]
     },
     "execution_count": 71,
     "metadata": {},
     "output_type": "execute_result"
    }
   ],
   "source": [
    "# 작동시간을 체크 하고 함수별 소요시간 기록하기\n",
    "from collections import deque\n",
    "\n",
    "def check_time():\n",
    "    time_log = {}\n",
    "    \n",
    "    def wrapper(func, *arg):\n",
    "        import time\n",
    "        start_time = time.time()\n",
    "        \n",
    "        func(*arg)\n",
    "        \n",
    "        time = f\"{time.time() - start_time:.2} seconds\"\n",
    "        time_log[func.__name__] = time\n",
    "        \n",
    "        print(time_log)\n",
    "        return time_log\n",
    "    return wrapper\n",
    "\n",
    "\n",
    "def list_insert(n):\n",
    "    lst = list(range(500))\n",
    "    for i in range(n):\n",
    "        lst.insert(len(lst),i)\n",
    "        \n",
    "def deque_insert(n):\n",
    "    d = deque(range(500))\n",
    "    for i in range(n):\n",
    "        d.insert(int(len(d)/2),i)\n",
    "\n",
    "c = check_time()\n",
    "c(list_insert , 100000)\n",
    "c(deque_insert , 100000)\n"
   ]
  },
  {
   "cell_type": "code",
   "execution_count": 80,
   "metadata": {},
   "outputs": [
    {
     "name": "stdout",
     "output_type": "stream",
     "text": [
      "{'deque_insert': '0.039 seconds'}\n",
      "{'list_insert': '0.0015 seconds'}\n"
     ]
    },
    {
     "data": {
      "text/plain": [
       "{'list_insert': '0.0015 seconds'}"
      ]
     },
     "execution_count": 80,
     "metadata": {},
     "output_type": "execute_result"
    }
   ],
   "source": [
    "from collections import deque\n",
    "\n",
    "def check_time(func):\n",
    "    time_log = {}\n",
    "    \n",
    "    def wrapper(*arg):\n",
    "        import time\n",
    "        start_time = time.time()\n",
    "        \n",
    "        func(*arg)\n",
    "        \n",
    "        time = f\"{time.time() - start_time:.2} seconds\"\n",
    "        time_log[func.__name__] = time\n",
    "        \n",
    "        print(time_log)\n",
    "        return time_log\n",
    "    return wrapper\n",
    "\n",
    "\n",
    "@check_time\n",
    "def list_insert(n):\n",
    "    lst = list(range(500))\n",
    "    for i in range(n):\n",
    "        lst.insert(len(lst),i)\n",
    "\n",
    "@check_time\n",
    "def deque_insert(n):\n",
    "    d = deque(range(500))\n",
    "    for i in range(n):\n",
    "        d.insert(int(len(d)/2),i)\n",
    "\n",
    "\n",
    "deque_insert(10000)\n",
    "list_insert(10000)"
   ]
  }
 ],
 "metadata": {
  "kernelspec": {
   "display_name": "Python 3",
   "language": "python",
   "name": "python3"
  },
  "language_info": {
   "codemirror_mode": {
    "name": "ipython",
    "version": 3
   },
   "file_extension": ".py",
   "mimetype": "text/x-python",
   "name": "python",
   "nbconvert_exporter": "python",
   "pygments_lexer": "ipython3",
   "version": "3.8.5"
  }
 },
 "nbformat": 4,
 "nbformat_minor": 4
}
