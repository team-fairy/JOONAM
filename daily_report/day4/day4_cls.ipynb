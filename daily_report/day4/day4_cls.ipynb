{
 "cells": [
  {
   "cell_type": "code",
   "execution_count": null,
   "metadata": {},
   "outputs": [],
   "source": [
    "class ClassTest():\n",
    "    def __init__( self, v1, v2 ): # class를 생성할떄 받을 값들을 정의\n",
    "        ## 객체가 호출되었을때 새롭게 생성된 인스턴스를 초기화 하는 함수이다. 선언하지 않아도 항상 자동으로 실행된다.\n",
    "        self.v1 = v1\n",
    "        self.v2 = v2\n",
    "        self.v3 = 20\n",
    "    def sum_params(self): # 생성된 인스턴스를 통해 받은 값들을 그대로 받는다 함수와, 생성자에서 선언된 변수들 또한 받는다.\n",
    "                        # 쉽게 보면 클래스 내의 전역변수의 느낌이다. \n",
    "        return self.v1 + self.v2 + self.v3\n",
    "    \n",
    "make_instance = ClassTest(2,20) # ClassTest 클래스를 인스터스화 하여 make_instance 라는 변수에 저장하였다.\n",
    "make_instance.sum_params() # 이렇게 된다면 생성된 make_instance의 클래스 내부의 self는 make_instance라 바뀌면 좋다. "
   ]
  },
  {
   "cell_type": "code",
   "execution_count": null,
   "metadata": {},
   "outputs": [],
   "source": [
    "class Encapsulation():\n",
    "    def __init__( self ):\n",
    "        self.v1 = 10\n",
    "        self.__v2 = 20     \n",
    "test_encap = Encapsulation()\n",
    "print(test_encap.v1) \n",
    "print(test_encap.__v2) # 변수의 접근이 제한된다. 이는 인터프리터가 컴파일 하면서 발생된다."
   ]
  },
  {
   "cell_type": "code",
   "execution_count": null,
   "metadata": {},
   "outputs": [],
   "source": [
    "print(test_encap._Encapsulation__v2)"
   ]
  },
  {
   "cell_type": "code",
   "execution_count": null,
   "metadata": {},
   "outputs": [],
   "source": [
    "class Encapsulation():\n",
    "    def __init__( self ):\n",
    "        self.v1 = 10\n",
    "        self.__v2 = 20  \n",
    "    @property\n",
    "    def v2(self):\n",
    "        return self.__v2\n",
    "test_encap = Encapsulation()\n",
    "print(test_encap.v1) \n",
    "print(test_encap.v2) # 변수의 접근이 제한된다. 이는 인터프리터가 컴파일 하면서 발생된다."
   ]
  },
  {
   "cell_type": "markdown",
   "metadata": {},
   "source": [
    "__Closure__"
   ]
  },
  {
   "cell_type": "code",
   "execution_count": null,
   "metadata": {},
   "outputs": [],
   "source": [
    "def inner_func(n):\n",
    "    non_local_var.append(n)\n",
    "    non_local_var2.append(n)\n",
    "    print(non_local_var, non_local_var2)"
   ]
  },
  {
   "cell_type": "code",
   "execution_count": 14,
   "metadata": {},
   "outputs": [
    {
     "name": "stdout",
     "output_type": "stream",
     "text": [
      "[3] [3]\n",
      "[3, 4] [3, 4]\n",
      "[3, 4, 12] [3, 4, 12]\n",
      "[4] [4]\n",
      "[4, 10] [4, 10]\n",
      "[4, 10, 11] [4, 10, 11]\n"
     ]
    }
   ],
   "source": [
    "def test_closure(a):\n",
    "    \n",
    "    non_local_var = [] # non_loacl\n",
    "    \n",
    "    def inner_func(n):\n",
    "        non_local_var.append(n)\n",
    "        non_local_var2.append(n)\n",
    "        print(non_local_var, non_local_var2)\n",
    "    \n",
    "    non_local_var2 = []\n",
    "    \n",
    "    return inner_func\n",
    "\n",
    "c = test_closure(3)\n",
    "c(3)\n",
    "c(4)\n",
    "c(12)\n",
    "b = test_closure(3)\n",
    "b(4)\n",
    "b(10)\n",
    "b(11)"
   ]
  },
  {
   "cell_type": "code",
   "execution_count": 8,
   "metadata": {},
   "outputs": [
    {
     "ename": "NameError",
     "evalue": "name 'non_local_var' is not defined",
     "output_type": "error",
     "traceback": [
      "\u001b[0;31m---------------------------------------------------------------------------\u001b[0m",
      "\u001b[0;31mNameError\u001b[0m                                 Traceback (most recent call last)",
      "\u001b[0;32m<ipython-input-8-add8cf56c53e>\u001b[0m in \u001b[0;36m<module>\u001b[0;34m\u001b[0m\n\u001b[0;32m----> 1\u001b[0;31m \u001b[0mnon_local_var\u001b[0m\u001b[0;34m\u001b[0m\u001b[0;34m\u001b[0m\u001b[0m\n\u001b[0m",
      "\u001b[0;31mNameError\u001b[0m: name 'non_local_var' is not defined"
     ]
    }
   ],
   "source": [
    "non_local_var"
   ]
  },
  {
   "cell_type": "code",
   "execution_count": 13,
   "metadata": {},
   "outputs": [
    {
     "data": {
      "text/plain": [
       "(<cell at 0x7f9e9db093d0: list object at 0x7f9e9dc64fc0>,\n",
       " <cell at 0x7f9e9db09580: list object at 0x7f9e9c6e9840>)"
      ]
     },
     "execution_count": 13,
     "metadata": {},
     "output_type": "execute_result"
    }
   ],
   "source": [
    "c.__closure__"
   ]
  },
  {
   "cell_type": "markdown",
   "metadata": {},
   "source": [
    "__Decorator__"
   ]
  },
  {
   "cell_type": "code",
   "execution_count": 15,
   "metadata": {},
   "outputs": [
    {
     "name": "stdout",
     "output_type": "stream",
     "text": [
      "{'list_insert': '0.017 seconds'}\n",
      "{'list_insert': '0.017 seconds', 'deque_insert': '2.6 seconds'}\n"
     ]
    },
    {
     "data": {
      "text/plain": [
       "{'list_insert': '0.017 seconds', 'deque_insert': '2.6 seconds'}"
      ]
     },
     "execution_count": 15,
     "metadata": {},
     "output_type": "execute_result"
    }
   ],
   "source": [
    "# 작동시간을 체크 하고 함수별 소요시간 기록하기\n",
    "from collections import deque\n",
    "\n",
    "def check_time():\n",
    "    time_log = {}\n",
    "    \n",
    "    def wrapper(func, *arg):\n",
    "        import time\n",
    "        start_time = time.time()\n",
    "        \n",
    "        func(*arg)\n",
    "        \n",
    "        time = f\"{time.time() - start_time:.2} seconds\"\n",
    "        time_log[func.__name__] = time\n",
    "        \n",
    "        print(time_log)\n",
    "        return time_log\n",
    "    \n",
    "    return wrapper\n",
    "\n",
    "\n",
    "def list_insert(n):\n",
    "    lst = list(range(500))\n",
    "    for i in range(n):\n",
    "        lst.insert(len(lst),i)\n",
    "        \n",
    "def deque_insert(n):\n",
    "    d = deque(range(500))\n",
    "    for i in range(n):\n",
    "        d.insert(int(len(d)/2),i)\n",
    "\n",
    "c = check_time()\n",
    "\n",
    "c(list_insert , 100000)\n",
    "c(deque_insert , 100000)\n"
   ]
  },
  {
   "cell_type": "code",
   "execution_count": null,
   "metadata": {},
   "outputs": [],
   "source": [
    "start = time.time()\n",
    "list_insert"
   ]
  },
  {
   "cell_type": "code",
   "execution_count": 16,
   "metadata": {},
   "outputs": [
    {
     "name": "stdout",
     "output_type": "stream",
     "text": [
      "{'deque_insert': '0.041 seconds'}\n",
      "{'list_insert': '0.0017 seconds'}\n"
     ]
    },
    {
     "data": {
      "text/plain": [
       "{'list_insert': '0.0017 seconds'}"
      ]
     },
     "execution_count": 16,
     "metadata": {},
     "output_type": "execute_result"
    }
   ],
   "source": [
    "from collections import deque\n",
    "\n",
    "def check_time(func):\n",
    "    time_log = {}\n",
    "    \n",
    "    def wrapper(*arg):\n",
    "        import time\n",
    "        start_time = time.time()\n",
    "        \n",
    "        func(*arg)\n",
    "        \n",
    "        time = f\"{time.time() - start_time:.2} seconds\"\n",
    "        time_log[func.__name__] = time\n",
    "        \n",
    "        print(time_log)\n",
    "        return time_log\n",
    "    return wrapper\n",
    "\n",
    "\n",
    "@check_time\n",
    "def list_insert(n):\n",
    "    lst = list(range(500))\n",
    "    for i in range(n):\n",
    "        lst.insert(len(lst),i)\n",
    "\n",
    "@check_time\n",
    "def deque_insert(n):\n",
    "    d = deque(range(500))\n",
    "    for i in range(n):\n",
    "        d.insert(int(len(d)/2),i)\n",
    "\n",
    "\n",
    "        \n",
    "deque_insert(10000)\n",
    "list_insert(10000)"
   ]
  }
 ],
 "metadata": {
  "kernelspec": {
   "display_name": "Python 3",
   "language": "python",
   "name": "python3"
  },
  "language_info": {
   "codemirror_mode": {
    "name": "ipython",
    "version": 3
   },
   "file_extension": ".py",
   "mimetype": "text/x-python",
   "name": "python",
   "nbconvert_exporter": "python",
   "pygments_lexer": "ipython3",
   "version": "3.8.5"
  }
 },
 "nbformat": 4,
 "nbformat_minor": 4
}
