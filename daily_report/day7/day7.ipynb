{
 "cells": [
  {
   "cell_type": "code",
   "execution_count": 1,
   "metadata": {},
   "outputs": [
    {
     "name": "stdout",
     "output_type": "stream",
     "text": [
      "data shape (1500, 3)\n",
      "pweight [ 66.73038125  59.96547616  15.06153759 100.        ] bias 100\n"
     ]
    }
   ],
   "source": [
    "from sklearn.datasets import make_regression\n",
    "import seaborn as sns\n",
    "import matplotlib.pyplot as plt\n",
    "import numpy as np\n",
    "import random\n",
    "\n",
    "X, y, answer = make_regression(1500, 3,bias=100, noise=20, coef=True)\n",
    "answer = np.append( answer, 100)\n",
    "\n",
    "print(f\"data shape {X.shape}\\npweight {answer} bias {100}\")"
   ]
  },
  {
   "cell_type": "markdown",
   "metadata": {},
   "source": [
    "<br></br><br></br><br></br>\n",
    "\n",
    "__경사하강법 구현__"
   ]
  },
  {
   "cell_type": "code",
   "execution_count": 2,
   "metadata": {},
   "outputs": [],
   "source": [
    "def log_plot(log):\n",
    "    sns.lineplot(x = np.arange(0,len(log)), y= log)\n",
    "    plt.show()\n",
    "    \n",
    "def compare(beta_gd):\n",
    "    return np.sqrt(sum((y - (X @ beta_gd[:-1] + beta_gd[-1]))**2))\n",
    "    \n",
    "def gd(X,y,epoch):\n",
    "    global log\n",
    "    log = []\n",
    "    X_ = np.array([ np.append(x,[1]) for x in X])\n",
    "    beta_gd = np.random.random_sample(4)\n",
    "\n",
    "    for t in range(epoch):\n",
    "        error = y - (X_ @ beta_gd)\n",
    "        grad = - np.transpose(X_) @ error\n",
    "        beta_gd = beta_gd - 0.001 * grad\n",
    "        log.append(np.linalg.norm(answer - beta_gd))\n",
    "    return beta_gd\n",
    "\n"
   ]
  },
  {
   "cell_type": "code",
   "execution_count": 3,
   "metadata": {},
   "outputs": [
    {
     "name": "stdout",
     "output_type": "stream",
     "text": [
      "coef [ 66.73038125  59.96547616  15.06153759 100.        ]\n",
      "predicted_coef [ 67.22360297  60.44659245  15.08114719 100.03645116]\n",
      "MSE : 749.4625160492526\n"
     ]
    }
   ],
   "source": [
    "w_ =gd(X,y,epoch = 100)\n",
    "print(f\"coef {answer}\\npredicted_coef {w_}\")\n",
    "print(f\"MSE : {compare(w_)}\")"
   ]
  },
  {
   "cell_type": "code",
   "execution_count": 4,
   "metadata": {},
   "outputs": [
    {
     "data": {
      "image/png": "[encoded data removed]",
      "text/plain": [
       "<Figure size 432x288 with 1 Axes>"
      ]
     },
     "metadata": {
      "needs_background": "light"
     },
     "output_type": "display_data"
    }
   ],
   "source": [
    "log_plot(log[:20])"
   ]
  },
  {
   "cell_type": "markdown",
   "metadata": {},
   "source": [
    "<br></br><br></br>\n",
    "\n",
    "__확률적 경사하강법 SGD ( 1개 데이터만 )__"
   ]
  },
  {
   "cell_type": "code",
   "execution_count": 5,
   "metadata": {},
   "outputs": [],
   "source": [
    "ß∑def get_batch():\n",
    "    for i in range(len(X)):\n",
    "        yield np.append(X[i],1) ,y[i]\n",
    "        \n",
    "    \n",
    "def SGD(X,y,epoch):\n",
    "    global log\n",
    "    log = []\n",
    "    beta_gd = np.random.random_sample(4)\n",
    "    \n",
    "    for e in range(epoch):\n",
    "        batch = get_batch()\n",
    "        \n",
    "        for _ in range(len(X)): # 데이터 가져오기\n",
    "            X_,y = next(batch)\n",
    "            \n",
    "            \n",
    "            error = y - (X_ @ beta_gd)\n",
    "            grad = - np.transpose(X_) * error\n",
    "            beta_gd = beta_gd - 0.001 * grad\n",
    "            log.append(np.linalg.norm(answer - beta_gd))\n",
    "    return beta_gd\n"
   ]
  },
  {
   "cell_type": "code",
   "execution_count": 6,
   "metadata": {},
   "outputs": [
    {
     "name": "stdout",
     "output_type": "stream",
     "text": [
      "coef [ 66.73038125  59.96547616  15.06153759 100.        ]\n",
      "predicted_coef [ 66.89712799  60.11256379  15.04102654 100.0006898 ]\n",
      "MSE : 749.683298683751\n"
     ]
    }
   ],
   "source": [
    "w_ = SGD(X,y,100)\n",
    "print(f\"coef {answer}\\npredicted_coef {w_}\")\n",
    "print(f\"MSE : {compare(w_)}\")"
   ]
  },
  {
   "cell_type": "code",
   "execution_count": 7,
   "metadata": {},
   "outputs": [
    {
     "data": {
      "image/png": "[encoded data removed]",
      "text/plain": [
       "<Figure size 432x288 with 1 Axes>"
      ]
     },
     "metadata": {
      "needs_background": "light"
     },
     "output_type": "display_data"
    }
   ],
   "source": [
    "log_plot(log[:3000])"
   ]
  },
  {
   "cell_type": "markdown",
   "metadata": {},
   "source": [
    "<br></br><br></br>\n",
    "\n",
    "__mini batch GD__"
   ]
  },
  {
   "cell_type": "code",
   "execution_count": 22,
   "metadata": {},
   "outputs": [],
   "source": [
    "def get_batch(batch_size):\n",
    "    for t in np.arange(0,len(X),batch_size):\n",
    "        yield np.hstack( [ X[t:t+batch_size,:], [[1] for i in range(batch_size)]] ) ,y[t:t+batch_size]\n",
    " \n",
    "        \n",
    "    \n",
    "def mini_batch_SGD(X,y,epoch,batch_size):\n",
    "    global log \n",
    "    log = []\n",
    "    beta_gd = np.random.random_sample(4)\n",
    "    \n",
    "    for e in range(epoch): # epoch 구간\n",
    "        batch = get_batch(batch_size) \n",
    "        while True:\n",
    "            \n",
    "            try:\n",
    "                X_,y_ = next(batch) # batch 가져오기\n",
    "            except StopIteration as e:\n",
    "                break\n",
    "            \n",
    "            # 오차 계산 및 가중치 업데이트\n",
    "            error = y_ - (X_ @ beta_gd)\n",
    "            grad = - np.transpose(X_) @ error / len(X_)\n",
    "            beta_gd = beta_gd - 0.001 * grad\n",
    "            \n",
    "            # log 더하기\n",
    "            log.append(np.linalg.norm(answer - beta_gd))\n",
    "    return beta_gd"
   ]
  },
  {
   "cell_type": "code",
   "execution_count": 26,
   "metadata": {},
   "outputs": [],
   "source": [
    "w_ = mini_batch_SGD(X,y,1000,100)"
   ]
  },
  {
   "cell_type": "code",
   "execution_count": 27,
   "metadata": {},
   "outputs": [
    {
     "name": "stdout",
     "output_type": "stream",
     "text": [
      "coef [ 66.73038125  59.96547616  15.06153759 100.        ]\n",
      "predicted_coef [ 67.22018804  60.44337621  15.08050592 100.03621369]\n",
      "MSE : 749.4625383538728\n"
     ]
    }
   ],
   "source": [
    "print(f\"coef {answer}\\npredicted_coef {w_}\")\n",
    "print(f\"MSE : {compare(w_)}\")"
   ]
  },
  {
   "cell_type": "code",
   "execution_count": 37,
   "metadata": {},
   "outputs": [
    {
     "data": {
      "image/png": "[encoded data removed]",
      "text/plain": [
       "<Figure size 432x288 with 1 Axes>"
      ]
     },
     "metadata": {
      "needs_background": "light"
     },
     "output_type": "display_data"
    }
   ],
   "source": [
    "log_plot(log[:3000])"
   ]
  }
 ],
 "metadata": {
  "kernelspec": {
   "display_name": "Python 3",
   "language": "python",
   "name": "python3"
  },
  "language_info": {
   "codemirror_mode": {
    "name": "ipython",
    "version": 3
   },
   "file_extension": ".py",
   "mimetype": "text/x-python",
   "name": "python",
   "nbconvert_exporter": "python",
   "pygments_lexer": "ipython3",
   "version": "3.8.5"
  }
 },
 "nbformat": 4,
 "nbformat_minor": 4
}
