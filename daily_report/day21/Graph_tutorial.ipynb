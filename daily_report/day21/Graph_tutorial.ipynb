{
 "cells": [
  {
   "cell_type": "code",
   "execution_count": 4,
   "id": "toxic-ecology",
   "metadata": {},
   "outputs": [],
   "source": [
    "import networkx as nx\n",
    "import numpy as np\n",
    "import matplotlib.pyplot as plt"
   ]
  },
  {
   "cell_type": "code",
   "execution_count": 5,
   "id": "bigger-latest",
   "metadata": {},
   "outputs": [
    {
     "name": "stdout",
     "output_type": "stream",
     "text": [
      "###### Graph Init ######\n"
     ]
    }
   ],
   "source": [
    "print(\"###### Graph Init ######\")               \n",
    "G= nx.Graph()                                   # 방향성이 없는 그래프\n",
    "DiGraph = nx.DiGraph()                          # 방향성이 있는 그래프"
   ]
  },
  {
   "cell_type": "code",
   "execution_count": 6,
   "id": "eleven-carroll",
   "metadata": {},
   "outputs": [
    {
     "name": "stdout",
     "output_type": "stream",
     "text": [
      "###### Add Node to Graph ######\n",
      "# Add node 1\n",
      "Num of nodes in G : 1\n",
      "Graph : [1]\n",
      "\n"
     ]
    }
   ],
   "source": [
    "print(\"###### Add Node to Graph ######\")                    \n",
    "print(\"# Add node 1\")                                      \n",
    "G.add_node(1)                                               # 정점 1 추가\n",
    "print(\"Num of nodes in G : \" + str(G.number_of_nodes()))    # 정점의 수 반환\n",
    "print(\"Graph : \" + str(G.nodes)+ \"\\n\")                      # 정점의 목록 반환"
   ]
  },
  {
   "cell_type": "code",
   "execution_count": 8,
   "id": "cooked-israel",
   "metadata": {},
   "outputs": [
    {
     "name": "stdout",
     "output_type": "stream",
     "text": [
      "# Add vertex 2 ~ 10\n",
      "Num of nodes in G : 10\n",
      "Graph : [1, 2, 3, 4, 5, 6, 7, 8, 9, 10]\n",
      "\n",
      "###### Add Edge to Graph ######\n",
      "#Add edge (1, 2)\n",
      "Graph : [(1, 2)]\n",
      "\n"
     ]
    }
   ],
   "source": [
    "print(\"# Add vertex 2 ~ 10\")                                # 정점 2 ~ 10 추가\n",
    "for i in range (1, 11):\n",
    "    G.add_node(i)\n",
    "print(\"Num of nodes in G : \" + str(G.number_of_nodes()))\n",
    "print(\"Graph : \" + str(G.nodes) + \"\\n\")\n",
    "\n",
    "\n",
    "print(\"###### Add Edge to Graph ######\")                    \n",
    "G = nx.Graph()\n",
    "print(\"#Add edge (1, 2)\")                                   \n",
    "G.add_edge(1, 2)                                            # 정점 1과 2 사이에 간선 추가\n",
    "print(\"Graph : \" + str(G.edges) + \"\\n\")                     # 간선의 목록 반환\n"
   ]
  },
  {
   "cell_type": "code",
   "execution_count": 9,
   "id": "graduate-smile",
   "metadata": {},
   "outputs": [
    {
     "name": "stdout",
     "output_type": "stream",
     "text": [
      "#Add edge (1, i) for i = 2 ~ 10\n",
      "Graph : [(1, 2), (1, 3), (1, 4), (1, 5), (1, 6), (1, 7), (1, 8), (1, 9), (1, 10)]\n",
      "\n"
     ]
    }
   ],
   "source": [
    "print(\"#Add edge (1, i) for i = 2 ~ 10\")                    # 정점 1과 다른 정점 사이의 간선 추가\n",
    "for i in range (2, 11):\n",
    "    G.add_edge(1, i)\n",
    "print(\"Graph : \" + str(G.edges) + \"\\n\")"
   ]
  },
  {
   "cell_type": "code",
   "execution_count": 10,
   "id": "environmental-deviation",
   "metadata": {},
   "outputs": [
    {
     "data": {
      "image/png": "[encoded data removed]",
      "text/plain": [
       "<Figure size 432x288 with 1 Axes>"
      ]
     },
     "metadata": {},
     "output_type": "display_data"
    }
   ],
   "source": [
    "# 그래프를 시각화\n",
    "# 정점의 위치 결정\n",
    "pos = nx.spring_layout(G) # 시각화를 위해선 위치를 잘 저장하는 것이중요하다.                                            \n",
    "# 정점의 색과 크기를 지정하여 출력\n",
    "im = nx.draw_networkx_nodes(G, pos, node_color=\"red\", node_size=100)    \n",
    "# 간선 출력\n",
    "nx.draw_networkx_edges(G, pos)                                          \n",
    "# 각 정점의 라벨을 출력\n",
    "nx.draw_networkx_labels(G, pos, font_size=10, font_color=\"black\")       \n",
    "plt.show()\n",
    "\n"
   ]
  },
  {
   "cell_type": "markdown",
   "id": "solid-disabled",
   "metadata": {},
   "source": [
    "<br></br><br></br><br></br><br></br><br></br>"
   ]
  },
  {
   "cell_type": "markdown",
   "id": "wooden-windsor",
   "metadata": {},
   "source": [
    "__간선 List ( Egde_List )__  \n",
    "\n",
    "각 정점간의 간선을 나타냄, 두 정점간의 순서쌍 형태로 저장  \n",
    "방향성이 있는경우 (start, end) 로 정의  \n",
    "____\n",
    "\n",
    "단순하게 표현 할 수 있지만, 비효율적인 경우가 있다."
   ]
  },
  {
   "cell_type": "markdown",
   "id": "christian-cancellation",
   "metadata": {},
   "source": [
    "__인접 List( Adjacent list )__  \n",
    "\n",
    "각 정점의 이웃들을 저장\n",
    "python dictionary 형태로 저장한다.  \n",
    "정점에 따른 이웃들을 리스트 형태로 저장 할 수 있다.  \n",
    "\n",
    "방향성이 있는경우 이러한 데이터 형태를 2개 뽑아서 나타낸다.\n",
    "\n",
    "---- \n",
    "\n",
    "효율적인 처리가 가능하다.\n"
   ]
  },
  {
   "cell_type": "markdown",
   "id": "associate-bradley",
   "metadata": {},
   "source": [
    "__인접 Matrix ( Adjacency Matrix )__  \n",
    "\n",
    "row, column 의 수가 그래프의 모든 정점의 수와 동일하다.  \n",
    "대각행렬의 형태를 띈다.  \n",
    "\n",
    "방향성이 있는경우 동일 매트릭스에 row 기준으로 적용한다.  \n",
    "ex) 만약 1-->2 이고 2-->1이 아닌경우  \n",
    "\n",
    "\n",
    "---\n",
    "\n",
    "파일의 저장경우 희소행렬을 활용해서 저장을 한다.  \n",
    "but 0이 아닌경우가 많은 경우 오히려 희소행렬의 효율이 떨어진다."
   ]
  },
  {
   "cell_type": "markdown",
   "id": "korean-cause",
   "metadata": {},
   "source": [
    "<br></br><br></br><br></br><br></br><br></br>"
   ]
  },
  {
   "cell_type": "markdown",
   "id": "revised-registration",
   "metadata": {},
   "source": [
    "\n",
    "**Lab 2 : Graph Property**\n",
    "- Instuctor : Kijung Shin\n",
    "- Teaching Assistants : Deukryeol Yoon(main), Hyunju Lee, Shinhwan Kang \n",
    "- 본 실습에서는 그래프의 다양한 특성 중 그래프 지름, 전역 군집 계수, 차수 분포를 배우고, 수업에서 배운 small world graph의 그래프 특성을 알아본다.\n",
    "\n"
   ]
  },
  {
   "cell_type": "code",
   "execution_count": 13,
   "id": "certified-handle",
   "metadata": {},
   "outputs": [],
   "source": [
    "# 실습에 필요한 library를 import하고 그래프를 초기화합니다.\n",
    "import networkx as nx\n",
    "import os\n",
    "import os.path as osp\n",
    "import numpy as np\n",
    "import sys\n",
    "import matplotlib.pyplot as plt\n",
    "import collections\n",
    "np.set_printoptions(threshold=sys.maxsize)\n",
    "\n",
    "cycle_graph = nx.Graph()\n",
    "regular_graph = nx.Graph()\n",
    "small_world_graph = nx.Graph()\n",
    "random_graph = nx.Graph()"
   ]
  },
  {
   "cell_type": "code",
   "execution_count": 14,
   "id": "fancy-strip",
   "metadata": {},
   "outputs": [],
   "source": [
    "# 실습에 사용할 데이터를 읽어옵니다.\n",
    "base_path = \"/Users/joons/Downloads\"\n",
    "\n",
    "\n",
    "data = 'data/lab/lab2/cycle.txt'\n",
    "data = osp.join( base_path , data )\n",
    "f = open(data)\n",
    "for line in f:\n",
    "    v1, v2 = map(int, line.split())\n",
    "    cycle_graph.add_edge(v1, v2)\n",
    "\n",
    "data = 'data/lab/lab2/regular.txt'\n",
    "data = osp.join( base_path , data )\n",
    "f = open(data)\n",
    "for line in f:\n",
    "    v1, v2 = map(int, line.split())\n",
    "    regular_graph.add_edge(v1, v2)\n",
    "\n",
    "data = 'data/lab/lab2/small_world.txt'\n",
    "data = osp.join( base_path , data )\n",
    "f = open(data)\n",
    "for line in f:\n",
    "    v1, v2, = map(int, line.split())\n",
    "    small_world_graph.add_edge(v1, v2)\n",
    "\n",
    "data = 'data/lab/lab2/random.txt'\n",
    "data = osp.join( base_path , data )\n",
    "f = open(data)\n",
    "for line in f:\n",
    "    v1, v2 = map(int, line.split())\n",
    "    random_graph.add_edge(v1, v2)"
   ]
  },
  {
   "cell_type": "code",
   "execution_count": 15,
   "id": "connected-medication",
   "metadata": {},
   "outputs": [],
   "source": [
    "# 그래프의 전역 군집 계수를 찾는 함수입니다.\n",
    "#\n",
    "# 특정 정점 u의 정점 계수(cc)는 아래와 같이 구할 수 있습니다.\n",
    "# cc(u) = 2T(u)/(deg(u) * (deg(u) - 1))\n",
    "#   - cc(u) : 정점 u의 군집계수\n",
    "#   - T(u)  : 정점 u가 들어있는 삼각형 개수\n",
    "#   - deg(u): 정점 u의 차수 (degree)\n",
    "#\n",
    "# 그리고 전역 군집 계수는 모든 정점의 cc(u)의 평균을 의미합니다.\n",
    "# 전역 군집 계수\n",
    "# avg_cc(G) = sigma(u in G) cc(u) / n\n",
    "#   - avg_cc(G) : 그래프 G의 전역 군집 계수\n",
    "#   - n         : 그래프 G의 정점 개수\n",
    "#\n",
    "def getGraphAverageClusteringCoefficient(Graph):\n",
    "    ccs = []\n",
    "    for v in Graph.nodes:\n",
    "        num_connected_pairs = 0\n",
    "        for neighbor1 in Graph.neighbors(v):\n",
    "            for neighbor2 in Graph.neighbors(v):\n",
    "                if neighbor1 <= neighbor2:\n",
    "                    continue\n",
    "                if Graph.has_edge(neighbor1, neighbor2):\n",
    "                    num_connected_pairs += 1\n",
    "        cc = num_connected_pairs / ( Graph.degree(v) * (Graph.degree(v) -1) / 2 )\n",
    "        ccs.append(cc)\n",
    "    return sum(ccs) / len(ccs)"
   ]
  },
  {
   "cell_type": "code",
   "execution_count": 19,
   "id": "built-burst",
   "metadata": {},
   "outputs": [],
   "source": [
    "# 본 실습에서는 그래프의 다양한 특성 중 그래프 지름과 전역 군집 계수를 분석해봅니다.\n",
    "# 그래프에서 Diameter, Average Clustering Coefficient를 찾는 알고리즘을 구현하고, networkx에서 제공하는 라이브러리와 결과를 비교해봅시다.\n",
    "\n",
    "# 그래프의 지름을 찾는 함수입니다.\n",
    "# Definition. Graph Diameter\n",
    "#   The graph diameter of a graph is the length max(u,v)d(u,v) of the \"longest shortest path between any two graph vertices (u,v), where d(u,v) is a graph distance.\n",
    "#\n",
    "def getGraphDiameter(Graph):\n",
    "    diameter = 0\n",
    "    for v in Graph.nodes:\n",
    "        max_length = max(nx.single_source_shortest_path_length( Graph, v ).values())\n",
    "        diameter = diameter if diameter > max_length else max_length\n",
    "    return diameter"
   ]
  },
  {
   "cell_type": "code",
   "execution_count": 20,
   "id": "typical-lebanon",
   "metadata": {},
   "outputs": [
    {
     "name": "stdout",
     "output_type": "stream",
     "text": [
      "1. Graph Diameter\n",
      "cycle graph : 15\n",
      "cycle graph : 15\n",
      "regular graph : 8\n",
      "regular graph : 8\n",
      "small world graph : 6\n",
      "small world graph : 6\n",
      "random graph : 5\n",
      "random graph : 5\n",
      "\n",
      "2. Average Clustering Coefficient\n",
      "cycle graph : 0.0\n",
      "cycle graph : 0.0\n",
      "regular graph : 0.5\n",
      "regular graph : 0.5\n",
      "small world graph : 0.42555555555555563\n",
      "small world graph : 0.42555555555555563\n",
      "random graph : 0.027777777777777776\n",
      "random graph : 0.027777777777777776\n",
      "\n"
     ]
    }
   ],
   "source": [
    "# 아래는 위의 함수로 구한 그래프 지름 및 전역 군집 계수 값과 networkX에서 지원하는 library로 구한 값을 비교해봅니다.\n",
    "#\n",
    "#                   |     그래프 지름        |     전역 군집 계수\n",
    "# ------------------+------------------------------------------------------------                    \n",
    "# Regular Graph     |         High           |              High\n",
    "# Small World Graph |         Low            |              High\n",
    "# Random Graph      |         Low            |              Low\n",
    "#\n",
    "print(\"1. Graph Diameter\")\n",
    "print(\"cycle graph : \" + str(nx.diameter(cycle_graph)))\n",
    "print(\"cycle graph : \" + str(getGraphDiameter(cycle_graph)))\n",
    "\n",
    "print(\"regular graph : \" + str(nx.diameter(regular_graph)))\n",
    "print(\"regular graph : \" + str(getGraphDiameter(regular_graph)))\n",
    "\n",
    "print(\"small world graph : \" + str(nx.diameter(small_world_graph)))\n",
    "print(\"small world graph : \" + str(getGraphDiameter(small_world_graph)))\n",
    "\n",
    "print(\"random graph : \" + str(nx.diameter(random_graph)))\n",
    "print(\"random graph : \" + str(getGraphDiameter(random_graph)) + \"\\n\")\n",
    "\n",
    "print(\"2. Average Clustering Coefficient\")\n",
    "print(\"cycle graph : \" + str(nx.average_clustering(cycle_graph)))\n",
    "print(\"cycle graph : \" + str(getGraphAverageClusteringCoefficient(cycle_graph)))\n",
    "print(\"regular graph : \" + str(nx.average_clustering(regular_graph)))\n",
    "print(\"regular graph : \" + str(getGraphAverageClusteringCoefficient(regular_graph)))\n",
    "\n",
    "print(\"small world graph : \" + str(nx.average_clustering(small_world_graph)))\n",
    "print(\"small world graph : \" + str(getGraphAverageClusteringCoefficient(small_world_graph)))\n",
    "\n",
    "\n",
    "print(\"random graph : \" + str(nx.average_clustering(random_graph)))\n",
    "print(\"random graph : \" + str(getGraphAverageClusteringCoefficient(random_graph)) + \"\\n\")"
   ]
  },
  {
   "cell_type": "code",
   "execution_count": 21,
   "id": "initial-meter",
   "metadata": {},
   "outputs": [
    {
     "name": "stdout",
     "output_type": "stream",
     "text": [
      "3. Degree Distribution\n"
     ]
    },
    {
     "data": {
      "image/png": "[encoded data removed]",
      "text/plain": [
       "<Figure size 432x288 with 1 Axes>"
      ]
     },
     "metadata": {
      "needs_background": "light"
     },
     "output_type": "display_data"
    }
   ],
   "source": [
    "# 그래프의 차수 분포을 그리는 부분입니다.\n",
    "print(\"3. Degree Distribution\")\n",
    "degree_sequence = sorted([d for n, d in random_graph.degree()], reverse = True)\n",
    "degreeCount = collections.Counter(degree_sequence)\n",
    "deg, cnt = zip(*degreeCount.items())\n",
    "plt.bar(deg, cnt, color=\"b\")\n",
    "plt.xlabel('degree')\n",
    "plt.ylabel('number of vertices')\n",
    "plt.xticks([2, 3, 4])\n",
    "plt.show()"
   ]
  }
 ],
 "metadata": {
  "kernelspec": {
   "display_name": "Python [conda env:python_3.7] *",
   "language": "python",
   "name": "conda-env-python_3.7-py"
  },
  "language_info": {
   "codemirror_mode": {
    "name": "ipython",
    "version": 3
   },
   "file_extension": ".py",
   "mimetype": "text/x-python",
   "name": "python",
   "nbconvert_exporter": "python",
   "pygments_lexer": "ipython3",
   "version": "3.7.9"
  }
 },
 "nbformat": 4,
 "nbformat_minor": 5
}
