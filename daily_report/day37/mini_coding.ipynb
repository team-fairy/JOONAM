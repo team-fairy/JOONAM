{
 "cells": [
  {
   "cell_type": "markdown",
   "id": "skilled-boundary",
   "metadata": {},
   "source": [
    "### model의 시공간\n",
    "\n",
    "- Binary search"
   ]
  },
  {
   "cell_type": "code",
   "execution_count": 4,
   "id": "medium-replication",
   "metadata": {},
   "outputs": [
    {
     "name": "stdout",
     "output_type": "stream",
     "text": [
      "subarray in step 0 [0, 1, 2, 3, 4, 5, 6, 7, 8, 9, 10, 11]\n",
      "subarray in step 1 [0, 1, 2, 3, 4, 5]\n",
      "subarray in step 2 [3, 4, 5]\n",
      "subarray in step 3 [5]\n"
     ]
    },
    {
     "data": {
      "text/plain": [
       "5"
      ]
     },
     "execution_count": 4,
     "metadata": {},
     "output_type": "execute_result"
    }
   ],
   "source": [
    "def binary_search_iterative(arr, element):\n",
    "    mid = 0\n",
    "    s = 0\n",
    "    e = len(arr)\n",
    "    step = 0\n",
    "    \n",
    "    while (s<=e):\n",
    "        print(f\"subarray in step {step} {str(arr[s:e+1])}\")\n",
    "        step += 1\n",
    "        mid = (s + e)//2\n",
    "        if element == arr[mid]:\n",
    "            return mid\n",
    "        if element < arr[mid]:\n",
    "            e = mid - 1\n",
    "        else:\n",
    "            s = mid + 1\n",
    "    return -1\n",
    "binary_search_iterative([i for i in range(12)] , 5)"
   ]
  },
  {
   "cell_type": "markdown",
   "id": "seeing-genetics",
   "metadata": {},
   "source": [
    "so.. 시간 복잡도에 대한 개념을 가지고 접근해라.."
   ]
  },
  {
   "cell_type": "code",
   "execution_count": null,
   "id": "fourth-printer",
   "metadata": {},
   "outputs": [],
   "source": []
  }
 ],
 "metadata": {
  "kernelspec": {
   "display_name": "Python [conda env:python_3.7] *",
   "language": "python",
   "name": "conda-env-python_3.7-py"
  },
  "language_info": {
   "codemirror_mode": {
    "name": "ipython",
    "version": 3
   },
   "file_extension": ".py",
   "mimetype": "text/x-python",
   "name": "python",
   "nbconvert_exporter": "python",
   "pygments_lexer": "ipython3",
   "version": "3.7.9"
  }
 },
 "nbformat": 4,
 "nbformat_minor": 5
}
