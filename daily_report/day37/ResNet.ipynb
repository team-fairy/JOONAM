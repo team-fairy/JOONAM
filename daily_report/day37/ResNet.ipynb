{
 "cells": [
  {
   "cell_type": "markdown",
   "id": "collectible-senegal",
   "metadata": {},
   "source": [
    "https://github.com/pytorch/vision/blob/bb2805a669b197582b796f0d86ef8932e1a4396a/torchvision/models/resnet.py#L37\n",
    "\n",
    "https://github.com/pytorch/vision/blob/bb2805a669b197582b796f0d86ef8932e1a4396a/torchvision/models/resnet.py#L26\n",
    "\n",
    "https://github.com/ndb796/Deep-Learning-Paper-Review-and-Practice/blob/master/code_practices/ResNet18_MNIST_Train.ipynb\n"
   ]
  },
  {
   "cell_type": "code",
   "execution_count": 7,
   "id": "clinical-annotation",
   "metadata": {},
   "outputs": [],
   "source": [
    "import torch\n",
    "import torch.nn as nn\n",
    "\n",
    "\n"
   ]
  },
  {
   "cell_type": "code",
   "execution_count": null,
   "id": "requested-happiness",
   "metadata": {},
   "outputs": [],
   "source": [
    "class Student(nn.Module):\n",
    "    def __init__(self):\n",
    "        super().__init__()\n",
    "        self.model = models.ResNet18()\n",
    "        self.model.fc = nn.Linear(512, 2)\n",
    "\n",
    "\n",
    "    def forward(self, x):\n",
    "        x = self.model(x)\n",
    "\n",
    "        return x"
   ]
  },
  {
   "cell_type": "code",
   "execution_count": null,
   "id": "greater-relevance",
   "metadata": {},
   "outputs": [],
   "source": [
    "class ResNet(nn.Module):\n",
    "    def __init__(self):\n",
    "        super().__init__()\n",
    "        self.conv1 = nn.Conv2d( 3, 64, kernel_size=7, stride=2, padding=3 )\n",
    "        self.bn1 = nn.BatchNorm2d(64)\n",
    "        self.relu = nn.ReLU(inplace=True)\n",
    "        self.maxpool = nn.MaxPool2d(kernel_size=3, stride=2, padding=1)\n",
    "        \n",
    "    def basic_block(self, in_channel, out_channel, stride ): # conv2d, BN, ReLU, conv2d, BN\n",
    "        # inchannel \n",
    "        # outchannel\n",
    "            \n",
    "        block = nn.Sequential(\n",
    "            nn.Conv2d( in_channel, out_channel, stride=stride, kernel_size=3 ),\n",
    "            nn.BatchNorm2d( out_channel ),\n",
    "            nn.ReLU(inplace=True),\n",
    "            nn.Conv2d( out_channel, out_channel, stride=1, kernel_size=3 ),\n",
    "            nn.BatchNorm2d( out_channel ),\n",
    "        )\n",
    "        return block\n",
    "    \n",
    "    \n",
    "    def downsample(self, in_channel, out_channel):\n",
    "        down_sample = nn.Sequential( \n",
    "            nn.Conv2d( in_channel, out_channel, stride=2, kernel_size=1),\n",
    "            nn.BatchNorm2d(out_channel)\n",
    "        )\n",
    "        return down_sample\n",
    "    \n",
    "\n",
    "        \n",
    "    def forward(self,x):\n",
    "        x = self.conv1(x)\n",
    "        x = self.bn1(x)\n",
    "        x = self.relu(x)\n",
    "        x = self.maxpool(x)\n",
    "        \n",
    "        identity = x\n",
    "        x = basic_block(64, 64, stride=1)(x)\n",
    "        x = basic_block(64, 64, stride=1)(x)\n",
    "        x = x+identity\n",
    "        \n",
    "        identity = x\n",
    "        x = basic_block(64, 64, stride=1)(x)\n",
    "        x = basic_block(64, 64, stride=1)(x)\n",
    "        x = x+identity\n",
    "        \n",
    "        identity = downsample(x, 64, 128)\n",
    "        x = basic_block(64, 64, stride=1)(x)\n",
    "        x = basic_block(64, 64, stride=1)(x)\n",
    "        x = x+identity\n",
    "        \n",
    "        \n",
    "        \n",
    "        \n",
    "        return x"
   ]
  }
 ],
 "metadata": {
  "kernelspec": {
   "display_name": "Python 3",
   "language": "python",
   "name": "python3"
  },
  "language_info": {
   "codemirror_mode": {
    "name": "ipython",
    "version": 3
   },
   "file_extension": ".py",
   "mimetype": "text/x-python",
   "name": "python",
   "nbconvert_exporter": "python",
   "pygments_lexer": "ipython3",
   "version": "3.7.9"
  }
 },
 "nbformat": 4,
 "nbformat_minor": 5
}
